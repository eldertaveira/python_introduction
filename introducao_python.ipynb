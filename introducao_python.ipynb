{
 "cells": [
  {
   "cell_type": "markdown",
   "metadata": {},
   "source": [
    "# Introdução ao curso de Python!"
   ]
  },
  {
   "cell_type": "markdown",
   "metadata": {},
   "source": [
    "Nesse arquivo, você verá o passos iniciais para programar em python. Logo, assuntos básicos como strings, listas e demais assuntos, estarão presentes aqui. Aproveite! "
   ]
  },
  {
   "cell_type": "markdown",
   "metadata": {},
   "source": [
    "Podemos começar falando sobre variáveis. Toda variável armazena um valor, que vai estar associado a essa variável:"
   ]
  },
  {
   "cell_type": "code",
   "execution_count": 2,
   "metadata": {},
   "outputs": [
    {
     "name": "stdout",
     "output_type": "stream",
     "text": [
      "Hello World!\n"
     ]
    }
   ],
   "source": [
    "#Como nao podia ser diferente, vamos atribuir a variável var uma string, o famoso Hello World!\n",
    "var = \"Hello World!\"\n",
    "#imprimindo em tela usando a primeira função built-in do python, a print():\n",
    "print(var)"
   ]
  },
  {
   "cell_type": "code",
   "execution_count": 4,
   "metadata": {},
   "outputs": [
    {
     "name": "stdout",
     "output_type": "stream",
     "text": [
      "O dia do meu aniversário é dia 7 de Março\n"
     ]
    }
   ],
   "source": [
    "#Pode-se também atribuir outro tipo de dado a uma variável, como por exemplo um número inteiro.\n",
    "num = 7\n",
    "#imprimnindo em tela com uma mensagem mais elaborada:\n",
    "print(\"O dia do meu aniversário é dia \" + str(num) + \" de Março\")"
   ]
  },
  {
   "cell_type": "markdown",
   "metadata": {},
   "source": [
    "Observe que para fazer um print mais elaborado, eu tive que usar a função str(), para converter o variável num que recebe um número inteiro em uma string.\n",
    "Dessa forma a função print mais exibir a mensagem corretamente.\n",
    "\n",
    "Para saber mais sobre os  tipos de dados, segue um pequeno resumo:\n",
    "\n",
    "1. strings - \"casa\", \"carro\", \"gato\"\n",
    "2. inteiros - 7, 8, 9...\n",
    "3. flutuantes - 7.5, 2.4 ...\n",
    "4. booleanos - True, False."
   ]
  },
  {
   "cell_type": "markdown",
   "metadata": {},
   "source": [
    "# Listas"
   ]
  },
  {
   "cell_type": "markdown",
   "metadata": {},
   "source": [
    "Podemos entender lista como um conjunto de dados. Esses dados podem ser o que você quiser, seja para armazenar um conjunto de nomes, de ingredientes de sua pizza ou a marca de carros que você possui. Para criar uma lista basta criar uma variável e depois colocar os dados entre colchetes [], separados por vírgula. Eis um exemplo:\n",
    "\n",
    "gatos = ['Mimi', 'Maurice', 'Moça']\n",
    "\n",
    "A minha lista possui o nome de três gatos. A lista é um mutável, ou seja, posso adicionar mais itens. Logo, veremos como manipular esses dados."
   ]
  },
  {
   "cell_type": "markdown",
   "metadata": {},
   "source": [
    "# Aprendendo a usar o laço FOR"
   ]
  },
  {
   "cell_type": "code",
   "execution_count": 1,
   "metadata": {},
   "outputs": [],
   "source": [
    "list = ['Elder', 'Ytalo', 'Sueleide']"
   ]
  },
  {
   "cell_type": "code",
   "execution_count": 4,
   "metadata": {},
   "outputs": [
    {
     "name": "stdout",
     "output_type": "stream",
     "text": [
      "Elder it was a nice trick!\n",
      "I can't wait to see you againElder.\n",
      "\n",
      "Ytalo it was a nice trick!\n",
      "I can't wait to see you againYtalo.\n",
      "\n",
      "Sueleide it was a nice trick!\n",
      "I can't wait to see you againSueleide.\n",
      "\n",
      "Thank you, everyone. That was a great magic show!\n"
     ]
    }
   ],
   "source": [
    "for name in list:\n",
    "    print(name.title() + \" it was a nice trick!\")\n",
    "    print(\"I can't wait to see you again\" + name.title() + \".\\n\")\n",
    "\n",
    "print(\"Thank you, everyone. That was a great magic show!\")"
   ]
  },
  {
   "cell_type": "code",
   "execution_count": null,
   "metadata": {},
   "outputs": [],
   "source": []
  }
 ],
 "metadata": {
  "kernelspec": {
   "display_name": "Python 3 (ipykernel)",
   "language": "python",
   "name": "python3"
  },
  "language_info": {
   "codemirror_mode": {
    "name": "ipython",
    "version": 3
   },
   "file_extension": ".py",
   "mimetype": "text/x-python",
   "name": "python",
   "nbconvert_exporter": "python",
   "pygments_lexer": "ipython3",
   "version": "3.11.6"
  }
 },
 "nbformat": 4,
 "nbformat_minor": 2
}

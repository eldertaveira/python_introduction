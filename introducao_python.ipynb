{
 "cells": [
  {
   "cell_type": "markdown",
   "metadata": {},
   "source": [
    "# Introdução ao curso de Python!"
   ]
  },
  {
   "cell_type": "markdown",
   "metadata": {},
   "source": [
    "Nesse arquivo, você verá o passos iniciais para programar em python. Logo, assuntos básicos como strings, listas e demais assuntos, estarão presentes aqui. Aproveite! "
   ]
  },
  {
   "cell_type": "markdown",
   "metadata": {},
   "source": [
    "Podemos começar falando sobre variáveis. Toda variável armazena um valor, que vai estar associado a essa variável:"
   ]
  },
  {
   "cell_type": "code",
   "execution_count": 2,
   "metadata": {},
   "outputs": [
    {
     "name": "stdout",
     "output_type": "stream",
     "text": [
      "Hello World!\n"
     ]
    }
   ],
   "source": [
    "#Como nao podia ser diferente, vamos atribuir a variável var uma string, o famoso Hello World!\n",
    "var = \"Hello World!\"\n",
    "#imprimindo em tela usando a primeira função built-in do python, a print():\n",
    "print(var)"
   ]
  },
  {
   "cell_type": "code",
   "execution_count": 4,
   "metadata": {},
   "outputs": [
    {
     "name": "stdout",
     "output_type": "stream",
     "text": [
      "O dia do meu aniversário é dia 7 de Março\n"
     ]
    }
   ],
   "source": [
    "#Pode-se também atribuir outro tipo de dado a uma variável, como por exemplo um número inteiro.\n",
    "num = 7\n",
    "#imprimnindo em tela com uma mensagem mais elaborada:\n",
    "print(\"O dia do meu aniversário é dia \" + str(num) + \" de Março\")"
   ]
  },
  {
   "cell_type": "markdown",
   "metadata": {},
   "source": [
    "Observe que para fazer um print mais elaborado, eu tive que usar a função str(), para converter o variável num que recebe um número inteiro em uma string.\n",
    "Dessa forma a função print mais exibir a mensagem corretamente.\n",
    "\n",
    "Para saber mais sobre os  tipos de dados, segue um pequeno resumo:\n",
    "\n",
    "1. strings - \"casa\", \"carro\", \"gato\"\n",
    "2. inteiros - 7, 8, 9...\n",
    "3. flutuantes - 7.5, 2.4 ...\n",
    "4. booleanos - True, False."
   ]
  },
  {
   "cell_type": "markdown",
   "metadata": {},
   "source": [
    "# Listas"
   ]
  },
  {
   "cell_type": "markdown",
   "metadata": {},
   "source": [
    "Podemos entender lista como um conjunto de dados. Esses dados podem ser o que você quiser, seja para armazenar um conjunto de nomes, de ingredientes de sua pizza ou a marca de carros que você possui. Para criar uma lista basta criar uma variável e depois colocar os dados entre colchetes [], separados por vírgula. Eis um exemplo:\n",
    "\n",
    "gatos = ['Mimi', 'Maurice', 'Moça']\n",
    "\n",
    "A minha lista possui o nome de três gatos. A lista é um mutável, ou seja, posso adicionar mais itens. Logo, veremos como manipular esses dados."
   ]
  },
  {
   "cell_type": "code",
   "execution_count": 2,
   "metadata": {},
   "outputs": [
    {
     "name": "stdout",
     "output_type": "stream",
     "text": [
      "Uma das minhas comidas preferidas é: Lasanha.\n"
     ]
    }
   ],
   "source": [
    "#Usando valores individuais de uma lista\n",
    "comidas = ['pizza', 'lasanha', 'bolo', 'macarronada']\n",
    "\n",
    "mensagem = \"Uma das minhas comidas preferidas é: \" + comidas[1].title() + \".\"\n",
    "\n",
    "print(mensagem)"
   ]
  },
  {
   "cell_type": "code",
   "execution_count": 3,
   "metadata": {},
   "outputs": [
    {
     "name": "stdout",
     "output_type": "stream",
     "text": [
      "['honda', 'yamaha', 'suzuki', 'tesla']\n",
      "['honda', 'yamaha', 'toyota', 'tesla']\n"
     ]
    }
   ],
   "source": [
    "#Modificando elementos de uma lista\n",
    "carros = ['honda', 'yamaha', 'suzuki', 'tesla']\n",
    "print(carros)\n",
    "carros[2] = 'toyota'\n",
    "#Nova lista\n",
    "print(carros)"
   ]
  },
  {
   "cell_type": "code",
   "execution_count": 7,
   "metadata": {},
   "outputs": [
    {
     "name": "stdout",
     "output_type": "stream",
     "text": [
      "A minha lista agora contém: ['honda', 'yamaha', 'suzuki', 'tesla', 'toyota']\n"
     ]
    }
   ],
   "source": [
    "#Acrecentando elementos em uma lista\n",
    "carros = ['honda', 'yamaha', 'suzuki', 'tesla']\n",
    "#Ao invésd e substituir, vamos adicioanr toyota na lista, usando o método append.\n",
    "carros.append('toyota')\n",
    "print(f'A minha lista agora contém: {carros}')"
   ]
  },
  {
   "cell_type": "code",
   "execution_count": 10,
   "metadata": {},
   "outputs": [
    {
     "name": "stdout",
     "output_type": "stream",
     "text": [
      "['honda', 'toyota', 'yamaha', 'suzuki', 'tesla']\n",
      "O meu carro Toyota foi adicionado na posição 1\n"
     ]
    }
   ],
   "source": [
    "#Usando o método insert() para adicionar em qualquer posição da lista.\n",
    "carros = ['honda', 'yamaha', 'suzuki', 'tesla']\n",
    "carros.insert(1, 'toyota')\n",
    "print(carros)\n",
    "print(f'O meu carro {carros[1].title()} foi adicionado na posição 1')"
   ]
  },
  {
   "cell_type": "code",
   "execution_count": 15,
   "metadata": {},
   "outputs": [
    {
     "name": "stdout",
     "output_type": "stream",
     "text": [
      "Eu tinha: ['yamaha', 'suzuki', 'tesla'] \n",
      "\n",
      "Agora me resta: ['suzuki', 'tesla']\n"
     ]
    }
   ],
   "source": [
    "#Removendo item da lista acima\n",
    "print(f'Eu tinha: {carros} \\n')\n",
    "del carros[0]\n",
    "print(f'Agora me resta: {carros}')"
   ]
  },
  {
   "cell_type": "code",
   "execution_count": 17,
   "metadata": {},
   "outputs": [
    {
     "name": "stdout",
     "output_type": "stream",
     "text": [
      "Meu terceiro carro foi: Suzuki e estou removendo ele da lista. \n",
      "\n",
      "['honda', 'yamaha', 'tesla']\n"
     ]
    }
   ],
   "source": [
    "#Removendo através do método pop()\n",
    "carros = ['honda', 'yamaha', 'suzuki', 'tesla']\n",
    "terceiro = carros.pop(2)\n",
    "print(f'Meu terceiro carro foi: {terceiro.title()} e estou removendo ele da lista. \\n')\n",
    "print(carros)\n"
   ]
  },
  {
   "cell_type": "code",
   "execution_count": 24,
   "metadata": {},
   "outputs": [
    {
     "name": "stdout",
     "output_type": "stream",
     "text": [
      "['honda', 'yamaha', 'suzuki', 'tesla', 'bmw']\n",
      "Lista organizada:\n",
      "['bmw', 'honda', 'suzuki', 'tesla', 'yamaha']\n"
     ]
    }
   ],
   "source": [
    "#Usando o metodo sort() para organizar uma lista:\n",
    "carros = ['honda', 'yamaha', 'suzuki', 'tesla']\n",
    "#Adicionando novos carros:\n",
    "carros.append('bmw')\n",
    "print(carros)\n",
    "print('Lista organizada:')\n",
    "carros.sort()\n",
    "print(carros)"
   ]
  },
  {
   "cell_type": "code",
   "execution_count": 32,
   "metadata": {},
   "outputs": [
    {
     "name": "stdout",
     "output_type": "stream",
     "text": [
      "Aqui minha lista original\n",
      "['honda', 'yamaha', 'suzuki', 'tesla', 'bmw']\n",
      "\n",
      "Aqui minha lista ordenada:\n",
      "['bmw', 'honda', 'suzuki', 'tesla', 'yamaha']\n",
      "\n",
      "Aqui ela original de novo: ['honda', 'yamaha', 'suzuki', 'tesla', 'bmw']\n",
      "\n",
      "Ordem reversa: \n",
      "['bmw', 'tesla', 'suzuki', 'yamaha', 'honda']\n"
     ]
    }
   ],
   "source": [
    "#Ordenando temporariamente\n",
    "carros = ['honda', 'yamaha', 'suzuki', 'tesla']\n",
    "carros.append('bmw')\n",
    "print(\"Aqui minha lista original\")\n",
    "print(carros)\n",
    "print('\\nAqui minha lista ordenada:' )\n",
    "print(sorted(carros))\n",
    "print(f\"\\nAqui ela original de novo: {carros}\")\n",
    "\n",
    "#print da ordem reversa:\n",
    "carros.reverse()\n",
    "print('\\nOrdem reversa: ')\n",
    "print(carros)"
   ]
  },
  {
   "cell_type": "code",
   "execution_count": 36,
   "metadata": {},
   "outputs": [
    {
     "name": "stdout",
     "output_type": "stream",
     "text": [
      "O tamanho da minha lista é: 4\n"
     ]
    }
   ],
   "source": [
    "#Descobrindo o tamanho de uma lista através da função len():\n",
    "comidas = ['pizza', 'chocolate', 'churrasco', 'lasanha']\n",
    "print(f'O tamanho da minha lista é: {len(comidas)}')"
   ]
  },
  {
   "cell_type": "code",
   "execution_count": null,
   "metadata": {},
   "outputs": [],
   "source": []
  },
  {
   "cell_type": "markdown",
   "metadata": {},
   "source": [
    "# Aprendendo a usar o laço FOR"
   ]
  },
  {
   "cell_type": "code",
   "execution_count": 37,
   "metadata": {},
   "outputs": [],
   "source": [
    "lista = ['Elder', 'Ytalo', 'Sueleide']"
   ]
  },
  {
   "cell_type": "code",
   "execution_count": 38,
   "metadata": {},
   "outputs": [
    {
     "name": "stdout",
     "output_type": "stream",
     "text": [
      "Elder it was a nice trick!\n",
      "I can't wait to see you againElder.\n",
      "\n",
      "Ytalo it was a nice trick!\n",
      "I can't wait to see you againYtalo.\n",
      "\n",
      "Sueleide it was a nice trick!\n",
      "I can't wait to see you againSueleide.\n",
      "\n",
      "Thank you, everyone. That was a great magic show!\n"
     ]
    }
   ],
   "source": [
    "for name in lista:\n",
    "    print(name.title() + \" it was a nice trick!\")\n",
    "    print(\"I can't wait to see you again\" + name.title() + \".\\n\")\n",
    "\n",
    "print(\"Thank you, everyone. That was a great magic show!\")"
   ]
  },
  {
   "cell_type": "markdown",
   "metadata": {},
   "source": [
    "Criando listas numéricas usando a função range()"
   ]
  },
  {
   "cell_type": "code",
   "execution_count": 39,
   "metadata": {},
   "outputs": [
    {
     "name": "stdout",
     "output_type": "stream",
     "text": [
      "1\n",
      "2\n",
      "3\n",
      "4\n",
      "5\n"
     ]
    }
   ],
   "source": [
    "for n in range(1,6):\n",
    "    print(n)"
   ]
  },
  {
   "cell_type": "code",
   "execution_count": 42,
   "metadata": {},
   "outputs": [
    {
     "name": "stdout",
     "output_type": "stream",
     "text": [
      "Agora, temos uma lista: [1, 2, 3, 4, 5, 6, 7, 8, 9, 10]\n"
     ]
    }
   ],
   "source": [
    "#Usando range() e list() para criar lista de números:\n",
    "numeros = list(range(1,11))\n",
    "print(f'Agora, temos uma lista: {numeros}')"
   ]
  },
  {
   "cell_type": "code",
   "execution_count": 45,
   "metadata": {},
   "outputs": [
    {
     "name": "stdout",
     "output_type": "stream",
     "text": [
      "Minha lista normal é: [1, 2, 3, 4, 5, 6, 7, 8, 9, 10]\n",
      "Minha lista quadrada é: [1, 4, 9, 16, 25, 36, 49, 64, 81, 100]\n"
     ]
    }
   ],
   "source": [
    "#Exercício: Criando uma lista com os quadrados.\n",
    "quadrados = []\n",
    "for value in range(1,11):\n",
    "    quadrado = value**2\n",
    "    quadrados.append(quadrado)\n",
    "\n",
    "print(f'Minha lista normal é: {list(range(1,11))}')\n",
    "print(f'Minha lista quadrada é: {quadrados}')"
   ]
  },
  {
   "cell_type": "markdown",
   "metadata": {},
   "source": [
    "Estatísticas simples com uma lista de números\n",
    "1. min()\n",
    "2. max()\n",
    "3. sum()"
   ]
  },
  {
   "cell_type": "code",
   "execution_count": 51,
   "metadata": {},
   "outputs": [
    {
     "data": {
      "text/plain": [
       "1"
      ]
     },
     "execution_count": 51,
     "metadata": {},
     "output_type": "execute_result"
    }
   ],
   "source": [
    "numeros = [1, 2, 3, 4, 5, 6, 7]\n",
    "\n",
    "min(numeros)"
   ]
  },
  {
   "cell_type": "code",
   "execution_count": 52,
   "metadata": {},
   "outputs": [
    {
     "data": {
      "text/plain": [
       "7"
      ]
     },
     "execution_count": 52,
     "metadata": {},
     "output_type": "execute_result"
    }
   ],
   "source": [
    "max(numeros)"
   ]
  },
  {
   "cell_type": "code",
   "execution_count": 53,
   "metadata": {},
   "outputs": [
    {
     "data": {
      "text/plain": [
       "28"
      ]
     },
     "execution_count": 53,
     "metadata": {},
     "output_type": "execute_result"
    }
   ],
   "source": [
    "sum(numeros)"
   ]
  },
  {
   "cell_type": "markdown",
   "metadata": {},
   "source": [
    "# List comprehensions\n",
    "\n",
    "A abrangência de lista permite criar uma lista, das que foram trabalhadas acima, apenas com uma linha de código. Uma list comprehension combina o laço for e a criação de novos elementos em uma linha e concatena cada novo elemento automaticamente."
   ]
  },
  {
   "cell_type": "code",
   "execution_count": 55,
   "metadata": {},
   "outputs": [
    {
     "name": "stdout",
     "output_type": "stream",
     "text": [
      "[1, 4, 9, 16, 25, 36, 49, 64, 81, 100]\n"
     ]
    }
   ],
   "source": [
    "#Criando a lista dos quadrados:\n",
    "quad = [value**2 for value in range(1,11)]\n",
    "print(quad)"
   ]
  },
  {
   "cell_type": "code",
   "execution_count": 57,
   "metadata": {},
   "outputs": [
    {
     "name": "stdout",
     "output_type": "stream",
     "text": [
      "[2, 4, 6, 8, 10]\n"
     ]
    }
   ],
   "source": [
    "#numeros pares\n",
    "lista = [1, 2, 3, 4, 5, 6, 7, 8, 9, 10]\n",
    "pares = [num for num in lista if num % 2 == 0]\n",
    "print(pares)"
   ]
  },
  {
   "cell_type": "code",
   "execution_count": 59,
   "metadata": {},
   "outputs": [
    {
     "name": "stdout",
     "output_type": "stream",
     "text": [
      "['PYTHON', 'É', 'MUITO', 'LEGAL']\n"
     ]
    }
   ],
   "source": [
    "#usando upper() em list comprehension\n",
    "lista2 = ['python', 'é', 'muito', 'legal']\n",
    "maisculas = [x.upper() for x in lista2]\n",
    "print(maisculas)"
   ]
  },
  {
   "cell_type": "markdown",
   "metadata": {},
   "source": [
    "# Fatiando uma lista\n",
    "Para criar uma fatia, especifique o índice do primeiro e do último elemento com os quais você quer trabalhar. Como ocorre na função range(), Python para em um item antes do segundo índice que você especificar. Para exibir os três primeiros elementos de uma lista, solicite os índices de 0 a 3; os elementos 0, 1 e 2 serão devolvidos."
   ]
  },
  {
   "cell_type": "code",
   "execution_count": 1,
   "metadata": {},
   "outputs": [
    {
     "name": "stdout",
     "output_type": "stream",
     "text": [
      "['Ronaldinho', 'Neymar', 'Pelé']\n"
     ]
    }
   ],
   "source": [
    "players = ['Ronaldinho', 'Neymar', 'Pelé', 'CR7', 'Ronaldo']\n",
    "\n",
    "print(players[0:3])"
   ]
  },
  {
   "cell_type": "code",
   "execution_count": 3,
   "metadata": {},
   "outputs": [
    {
     "name": "stdout",
     "output_type": "stream",
     "text": [
      "['Pelé', 'CR7', 'Ronaldo']\n"
     ]
    }
   ],
   "source": [
    "#Você pode gerar qualquer subconjunto da lista, como vemos a seguir:\n",
    "# 2: indica que estou pegando do terceiro elemento da lista até o último.\n",
    "print(players[2:])"
   ]
  },
  {
   "cell_type": "code",
   "execution_count": 4,
   "metadata": {},
   "outputs": [
    {
     "name": "stdout",
     "output_type": "stream",
     "text": [
      "['Ronaldinho', 'Neymar', 'Pelé', 'CR7']\n"
     ]
    }
   ],
   "source": [
    "#Se o primeiro índice de uma fatia for omitido, Python começará sua\n",
    "#fatia automaticamente no início da lista:\n",
    "print(players[:4])"
   ]
  },
  {
   "cell_type": "markdown",
   "metadata": {},
   "source": [
    "Percorrendo uma fatia com um laço"
   ]
  },
  {
   "cell_type": "code",
   "execution_count": 5,
   "metadata": {},
   "outputs": [
    {
     "name": "stdout",
     "output_type": "stream",
     "text": [
      "Esses são meus jogadores favoritos: \n",
      "Ronaldinho\n",
      "Neymar\n",
      "Pelé\n",
      "CR7\n",
      "Ronaldo\n"
     ]
    }
   ],
   "source": [
    "#Você pode usar um fatia em um laço for se quiser percorrer um subconjunto de elemetos.\n",
    "players = ['Ronaldinho', 'Neymar', 'Pelé', 'CR7', 'Ronaldo']\n",
    "print(\"Esses são meus jogadores favoritos: \")\n",
    "for player in players:\n",
    "    print(player)"
   ]
  },
  {
   "cell_type": "markdown",
   "metadata": {},
   "source": [
    "# Tuplas\n",
    "As listas funcionam bem para armazenar conjuntos de itens que podem mudar durante a vida de um programa. A capacidade de modificar listas é particularmente importante quando trabalhamos com uma lista de usuários em um site ou com uma lista de personagens em um jogo. No entanto, às vezes, você vai querer criar uma lista de itens que não poderá mudar. As tuplas permitir fazer exatamente isso. Python refere-se a valores que não podem mudar como imutáveis, e uma lista imutável é chamada de tupla."
   ]
  },
  {
   "cell_type": "code",
   "execution_count": 9,
   "metadata": {},
   "outputs": [
    {
     "name": "stdout",
     "output_type": "stream",
     "text": [
      "dimensoes originais\n",
      "(200, 50)\n",
      "\n",
      "Dimensoes modificadas\n",
      "(400, 100)\n"
     ]
    }
   ],
   "source": [
    "dimensoes =(200, 50)\n",
    "print(\"dimensoes originais\")\n",
    "print(dimensoes)\n",
    "dimensoes = (400, 100)\n",
    "print(\"\\nDimensoes modificadas\")\n",
    "print(dimensoes)"
   ]
  },
  {
   "cell_type": "markdown",
   "metadata": {},
   "source": [
    "# Dicionários"
   ]
  },
  {
   "cell_type": "markdown",
   "metadata": {},
   "source": [
    "Entender os dicionários permite modelar uma diversidade de objetos do mundo real de modo mais preciso."
   ]
  },
  {
   "cell_type": "markdown",
   "metadata": {},
   "source": [
    "Um dicionário em Python é uma coleção de pares chave-valor. Cada chave é conectada a um valor, e você pode usar uma chave para acessar o valor associado a ela. O valor de uma chave pode ser um número, uma string, uma lista ou até mesmo outro dicionário. De fato, podemos usar qualquer objeto que possa ser criado em Python como valor de um dicionário"
   ]
  },
  {
   "cell_type": "code",
   "execution_count": 2,
   "metadata": {},
   "outputs": [],
   "source": [
    "exemplo = {'jogador':'Neymar', 'time':'PSG'}"
   ]
  },
  {
   "cell_type": "markdown",
   "metadata": {},
   "source": [
    "Acessando valores de um dicionário"
   ]
  },
  {
   "cell_type": "code",
   "execution_count": 6,
   "metadata": {},
   "outputs": [
    {
     "name": "stdout",
     "output_type": "stream",
     "text": [
      "O jogador do exemplo é: Neymar!\n"
     ]
    }
   ],
   "source": [
    "player = exemplo['jogador']\n",
    "print('O jogador do exemplo é: '  + str(player) + \"!\")\n",
    "#print(f'O {player} joga no time do {exemplo[1]}')"
   ]
  },
  {
   "cell_type": "markdown",
   "metadata": {},
   "source": [
    "Adicionando novos valores"
   ]
  },
  {
   "cell_type": "code",
   "execution_count": 7,
   "metadata": {},
   "outputs": [
    {
     "name": "stdout",
     "output_type": "stream",
     "text": [
      "{'jogador': 'Neymar', 'time': 'PSG'}\n",
      "{'jogador': 'Neymar', 'time': 'PSG', 'idade': 32, 'titulos': 25}\n"
     ]
    }
   ],
   "source": [
    "jogadores = {'jogador':'Neymar', 'time':'PSG'}\n",
    "print(jogadores)\n",
    "jogadores['idade'] = 32\n",
    "jogadores['titulos'] = 25\n",
    "print(jogadores)"
   ]
  },
  {
   "cell_type": "markdown",
   "metadata": {},
   "source": [
    "Començando com um dicionário vazio\n",
    "\n",
    "Às vezes, é conveniente ou até mesmo necessário começar com um dicionário vazio e então acrescentar novos itens a ele. Para começar a preencher um dicionário vazio, defina-o com um conjunto de chaves\n",
    "vazio e depois acrescente cada par chave-valor em sua própria linha"
   ]
  },
  {
   "cell_type": "code",
   "execution_count": 11,
   "metadata": {},
   "outputs": [
    {
     "name": "stdout",
     "output_type": "stream",
     "text": [
      "O jogador CR7 tem 39 anos\n"
     ]
    }
   ],
   "source": [
    "jogadores_novo = {}\n",
    "jogadores_novo['nome'] = 'CR7'\n",
    "jogadores_novo['idade'] = 39\n",
    "print('O jogador '+ jogadores_novo['nome'] + ' tem ' + str(jogadores_novo['idade']) + ' anos')"
   ]
  },
  {
   "cell_type": "markdown",
   "metadata": {},
   "source": [
    "Modificando valores em um dicionário"
   ]
  },
  {
   "cell_type": "code",
   "execution_count": 12,
   "metadata": {},
   "outputs": [
    {
     "name": "stdout",
     "output_type": "stream",
     "text": [
      "{'nome': 'Cristiano Ronaldo', 'idade': 39}\n"
     ]
    }
   ],
   "source": [
    "jogadores_novo['nome'] = 'Cristiano Ronaldo'\n",
    "print(jogadores_novo)"
   ]
  },
  {
   "cell_type": "markdown",
   "metadata": {},
   "source": [
    "Para remover um par chave:valor, basta utilizar del. Exemplo: del jogadores_novo['idade']\n",
    "Dessa forma, não vai mais existir o campo idade dentro do dicionário."
   ]
  },
  {
   "cell_type": "markdown",
   "metadata": {},
   "source": [
    "Dicionário com objetivos semelhantes"
   ]
  },
  {
   "cell_type": "code",
   "execution_count": 13,
   "metadata": {},
   "outputs": [
    {
     "name": "stdout",
     "output_type": "stream",
     "text": [
      "A linguagem favorita de Elder é: Python\n"
     ]
    }
   ],
   "source": [
    "linguagens = {'elder':'python', 'ytalo':'c', 'iris':'ruby', 'sueleide':'python'}\n",
    "print('A linguagem favorita de Elder é: ' + linguagens['elder'].title())"
   ]
  },
  {
   "cell_type": "markdown",
   "metadata": {},
   "source": [
    "Percorrendo um dicionário com um laço"
   ]
  },
  {
   "cell_type": "code",
   "execution_count": 16,
   "metadata": {},
   "outputs": [
    {
     "name": "stdout",
     "output_type": "stream",
     "text": [
      "\n",
      "Key: elder\n",
      "Linguagem: python\n",
      "\n",
      "Key: ytalo\n",
      "Linguagem: c\n",
      "\n",
      "Key: iris\n",
      "Linguagem: ruby\n",
      "\n",
      "Key: sueleide\n",
      "Linguagem: python\n"
     ]
    }
   ],
   "source": [
    "#pode-se usar também for k, l in ... Isso nao muda nada.\n",
    "for key, linguagem in linguagens.items():\n",
    "    print(\"\\nKey: \" + key)\n",
    "    print(\"Linguagem: \" + linguagem)"
   ]
  },
  {
   "cell_type": "code",
   "execution_count": 18,
   "metadata": {},
   "outputs": [
    {
     "name": "stdout",
     "output_type": "stream",
     "text": [
      "A linguagem favorita de Elder é Python\n",
      "A linguagem favorita de Ytalo é C\n",
      "A linguagem favorita de Iris é Ruby\n",
      "A linguagem favorita de Sueleide é Python\n"
     ]
    }
   ],
   "source": [
    "for k, l in linguagens.items():\n",
    "    print('A linguagem favorita de ' + k.title() +\n",
    "          ' é ' + l.title())"
   ]
  },
  {
   "cell_type": "markdown",
   "metadata": {},
   "source": [
    "Percorrendo todas as chaves de um dicionário com um laço\n",
    "\n",
    "O método keys() é conveniente quando não precisamos trabalhar com todos os valores de um dicionário."
   ]
  },
  {
   "cell_type": "code",
   "execution_count": 19,
   "metadata": {},
   "outputs": [
    {
     "name": "stdout",
     "output_type": "stream",
     "text": [
      "Elder\n",
      "Ytalo\n",
      "Iris\n",
      "Sueleide\n"
     ]
    }
   ],
   "source": [
    "linguagens = {'elder':'python', 'ytalo':'c', 'iris':'ruby', 'sueleide':'python'}\n",
    "for nome in linguagens.keys():\n",
    "    print(nome.title())"
   ]
  },
  {
   "cell_type": "code",
   "execution_count": 23,
   "metadata": {},
   "outputs": [
    {
     "name": "stdout",
     "output_type": "stream",
     "text": [
      "Elder\n",
      "Oi Elder, eu vejo que sua linguagem favorita é Python\n",
      "Ytalo\n",
      "Oi Ytalo, eu vejo que sua linguagem favorita é C\n",
      "Iris\n",
      "Sueleide\n"
     ]
    }
   ],
   "source": [
    "amigos = ['elder', 'ytalo']\n",
    "for nome in linguagens.keys():\n",
    "    print(nome.title())\n",
    "    if nome in amigos:\n",
    "        print(\"Oi \" + nome.title() + \", eu vejo que sua linguagem favorita é \" + linguagens[nome].title())"
   ]
  },
  {
   "cell_type": "markdown",
   "metadata": {},
   "source": [
    "Percorrendo todos os valores de um dicionári com um laço"
   ]
  },
  {
   "cell_type": "code",
   "execution_count": 24,
   "metadata": {},
   "outputs": [
    {
     "name": "stdout",
     "output_type": "stream",
     "text": [
      "As linguagens mencionadas foram: \n",
      "Python\n",
      "C\n",
      "Ruby\n",
      "Python\n"
     ]
    }
   ],
   "source": [
    "linguagens = {'elder':'python', 'ytalo':'c', 'iris':'ruby', 'sueleide':'python'}\n",
    "print(\"As linguagens mencionadas foram: \" )\n",
    "for l in linguagens.values():\n",
    "    print(l.title())"
   ]
  },
  {
   "cell_type": "markdown",
   "metadata": {},
   "source": [
    "Para verificar a lista de linguagens sem repetições, podemos usar um conjunto (set), onde cada valor é único."
   ]
  },
  {
   "cell_type": "code",
   "execution_count": 25,
   "metadata": {},
   "outputs": [
    {
     "name": "stdout",
     "output_type": "stream",
     "text": [
      "As linguagens mencionadas foram:\n",
      "Python\n",
      "Ruby\n",
      "C\n"
     ]
    }
   ],
   "source": [
    "print(\"As linguagens mencionadas foram:\")\n",
    "for l in set(linguagens.values()):\n",
    "    print(l.title())"
   ]
  },
  {
   "cell_type": "markdown",
   "metadata": {},
   "source": [
    "Uma lista de dicionários"
   ]
  },
  {
   "cell_type": "code",
   "execution_count": 26,
   "metadata": {},
   "outputs": [],
   "source": [
    "linguagens_0 = {'elder':'python', 'ytalo':'c', 'iris':'ruby', 'sueleide':'python'}\n",
    "linguagens_1 = {'paulo':'c++', 'joao':'python', 'maria':'java', 'samuel':'python'}\n",
    "linguagens_2 = {'ricardo':'python', 'joana':'c', 'elen':'sql', 'debora':'c++'}\n",
    "\n",
    "linguagens = [linguagens_0, linguagens_1, linguagens_2]"
   ]
  },
  {
   "cell_type": "code",
   "execution_count": 27,
   "metadata": {},
   "outputs": [
    {
     "name": "stdout",
     "output_type": "stream",
     "text": [
      "{'elder': 'python', 'ytalo': 'c', 'iris': 'ruby', 'sueleide': 'python'}\n",
      "{'paulo': 'c++', 'joao': 'python', 'maria': 'java', 'samuel': 'python'}\n",
      "{'ricardo': 'python', 'joana': 'c', 'elen': 'sql', 'debora': 'c++'}\n"
     ]
    }
   ],
   "source": [
    "for l in linguagens:\n",
    "    print(l)"
   ]
  },
  {
   "cell_type": "code",
   "execution_count": null,
   "metadata": {},
   "outputs": [],
   "source": []
  }
 ],
 "metadata": {
  "kernelspec": {
   "display_name": "Python 3 (ipykernel)",
   "language": "python",
   "name": "python3"
  },
  "language_info": {
   "codemirror_mode": {
    "name": "ipython",
    "version": 3
   },
   "file_extension": ".py",
   "mimetype": "text/x-python",
   "name": "python",
   "nbconvert_exporter": "python",
   "pygments_lexer": "ipython3",
   "version": "3.11.6"
  }
 },
 "nbformat": 4,
 "nbformat_minor": 2
}

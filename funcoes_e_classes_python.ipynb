{
 "cells": [
  {
   "cell_type": "markdown",
   "metadata": {},
   "source": [
    "# Funções"
   ]
  },
  {
   "cell_type": "markdown",
   "metadata": {},
   "source": [
    "Uma função simples é composta por: \n",
    "1. def nome_funcao(parâmetros)\n",
    "2.  \"\"\"Docstring, que diz o que a função faz\"\"\"\n",
    "3. print(\"exemplo\")  <-- A função apenas fará um simples print. "
   ]
  },
  {
   "cell_type": "code",
   "execution_count": 3,
   "metadata": {},
   "outputs": [],
   "source": [
    "def saudacao():\n",
    "    \"\"\"Exibe uma saudação simples\"\"\"\n",
    "    print(\"Hello!\")"
   ]
  },
  {
   "cell_type": "markdown",
   "metadata": {},
   "source": [
    "Agora, vamos chamar a função, que não tem parâmetro nenhum e já vai imprimir na tela a simples mensagem."
   ]
  },
  {
   "cell_type": "code",
   "execution_count": 4,
   "metadata": {},
   "outputs": [
    {
     "name": "stdout",
     "output_type": "stream",
     "text": [
      "Hello!\n"
     ]
    }
   ],
   "source": [
    "saudacao()"
   ]
  },
  {
   "cell_type": "markdown",
   "metadata": {},
   "source": [
    "Passando informações para uma função"
   ]
  },
  {
   "cell_type": "code",
   "execution_count": 5,
   "metadata": {},
   "outputs": [
    {
     "name": "stdout",
     "output_type": "stream",
     "text": [
      "Olá Elder!\n"
     ]
    }
   ],
   "source": [
    "def saudacao_user(nome):\n",
    "    \"\"\"Exibe uma saudação simples\"\"\"\n",
    "    print(f\"Olá {nome}!\")\n",
    "\n",
    "saudacao_user('Elder')"
   ]
  },
  {
   "cell_type": "markdown",
   "metadata": {},
   "source": [
    "#### **Argumentos e parâmetros**"
   ]
  },
  {
   "cell_type": "markdown",
   "metadata": {},
   "source": [
    "Na função acima, usamos a variável nome para receber um valor. A variável usada é um exemplo de parâmetro, uma informação de que a função precisa para executar sua tarefa. \n",
    "O valor 'Elder' em saudacao_user('Elder') é um exemplo de argumento. Um argumento é uma informação passada para uma função ser chamada. \n",
    "Quando chamamos a função, colocamos entre parênteses o valor com que queremos que a função trabalhe. Nesse caso, **o argumento 'Elder'** foi passado para a função saudacao_user() e o valor foi armazenado no **parâmetro nome**."
   ]
  },
  {
   "cell_type": "code",
   "execution_count": 9,
   "metadata": {},
   "outputs": [],
   "source": [
    "def livro_favorito(livro):\n",
    "    \"\"\"Exibe qual é seu livro favorito\"\"\"\n",
    "    print(f\"O meu livro favorito é: {livro}\")"
   ]
  },
  {
   "cell_type": "code",
   "execution_count": 10,
   "metadata": {},
   "outputs": [
    {
     "name": "stdout",
     "output_type": "stream",
     "text": [
      "O meu livro favorito é: O código Da Vinci\n"
     ]
    }
   ],
   "source": [
    "livro_favorito(\"O código Da Vinci\")"
   ]
  },
  {
   "cell_type": "markdown",
   "metadata": {},
   "source": [
    "Argumentos posicionais"
   ]
  },
  {
   "cell_type": "code",
   "execution_count": 3,
   "metadata": {},
   "outputs": [],
   "source": [
    "def descreve_animal(tipo, nome_pet):\n",
    "    \"\"\"Exibe informações sobre pet\"\"\"\n",
    "    print(f\"Eu tenho um {tipo}.\")\n",
    "    print(f\"Meu {tipo} se chama {nome_pet.title()}\")"
   ]
  },
  {
   "cell_type": "code",
   "execution_count": 4,
   "metadata": {},
   "outputs": [
    {
     "name": "stdout",
     "output_type": "stream",
     "text": [
      "Eu tenho um gato.\n",
      "Meu gato se chama Maurice\n"
     ]
    }
   ],
   "source": [
    "descreve_animal('gato', 'maurice')"
   ]
  },
  {
   "cell_type": "markdown",
   "metadata": {},
   "source": [
    "***A ordem é importante em argumentos posicionais***"
   ]
  },
  {
   "cell_type": "markdown",
   "metadata": {},
   "source": [
    "Argumentos nomeados\n",
    "\n",
    "Um argumento nomeado (keyword argument) é um par nome-valor passado para uma função. Associamos diretamente o nome e o valor no próprio argumento para que não haja confusão quando ele for passado para a função."
   ]
  },
  {
   "cell_type": "code",
   "execution_count": 5,
   "metadata": {},
   "outputs": [
    {
     "name": "stdout",
     "output_type": "stream",
     "text": [
      "Eu tenho um gato.\n",
      "Meu gato se chama Mimi\n"
     ]
    }
   ],
   "source": [
    "descreve_animal(tipo='gato', nome_pet='Mimi')"
   ]
  },
  {
   "cell_type": "markdown",
   "metadata": {},
   "source": [
    "A função descreve_animal() não mudou. Entretanto, quando chamamos a função, dizemos explicitamente a Python a qual parâmetro cada argumento deve corresponder."
   ]
  },
  {
   "cell_type": "markdown",
   "metadata": {},
   "source": [
    "Valores default\n",
    "\n",
    "Ao escrever uma função, podemos definir um valor default para cada\n",
    "parâmetro. Se um argumento para um parâmetro for especificado na\n",
    "chamada da função, Python usará o valor desse argumento. Se não for,\n",
    "o valor default do parâmetro será utilizado."
   ]
  },
  {
   "cell_type": "code",
   "execution_count": 6,
   "metadata": {},
   "outputs": [],
   "source": [
    "def descreve_pet(nome_pet, tipo='cachorro'):\n",
    "    \"\"\"Exibe informações sobre pet\"\"\"\n",
    "    print(f\"Eu tenho um {tipo}.\")\n",
    "    print(f\"Meu {tipo} se chama {nome_pet.title()}\")"
   ]
  },
  {
   "cell_type": "code",
   "execution_count": 7,
   "metadata": {},
   "outputs": [
    {
     "name": "stdout",
     "output_type": "stream",
     "text": [
      "Eu tenho um cachorro.\n",
      "Meu cachorro se chama Bobs\n"
     ]
    }
   ],
   "source": [
    "descreve_pet('Bobs')"
   ]
  },
  {
   "cell_type": "markdown",
   "metadata": {},
   "source": [
    "Apesar do valor defeault, você pode usar a função normalmente:"
   ]
  },
  {
   "cell_type": "code",
   "execution_count": 8,
   "metadata": {},
   "outputs": [
    {
     "name": "stdout",
     "output_type": "stream",
     "text": [
      "Eu tenho um peixe.\n",
      "Meu peixe se chama Nemo\n"
     ]
    }
   ],
   "source": [
    "descreve_pet(nome_pet='nemo', tipo='peixe')"
   ]
  },
  {
   "cell_type": "markdown",
   "metadata": {},
   "source": [
    "## Valores de Retorno"
   ]
  },
  {
   "cell_type": "markdown",
   "metadata": {},
   "source": [
    "Uma função nem sempre precisa exibir sua saída diretamente. Em vez\n",
    "disso, ela pode processar alguns dados e então devolver um valor ou um\n",
    "conjunto de valores. O valor devolvido pela função é chamado de valor\n",
    "de retorno. A instrução return toma um valor que está em uma função e o envia de volta à linha que a chamou. Valores de retorno permitem passar boa parte do trabalho pesado de um programa para funções, o que pode simplificar o corpo de seu programa."
   ]
  },
  {
   "cell_type": "code",
   "execution_count": 9,
   "metadata": {},
   "outputs": [],
   "source": [
    "def nome_formatado(primeiro_nome, segundo_nome):\n",
    "    \"\"\"Devolve o nome completo formatado\"\"\"\n",
    "    completo = primeiro_nome + ' ' + segundo_nome\n",
    "    return completo.title()"
   ]
  },
  {
   "cell_type": "code",
   "execution_count": 14,
   "metadata": {},
   "outputs": [
    {
     "name": "stdout",
     "output_type": "stream",
     "text": [
      "Elder Samuel\n"
     ]
    }
   ],
   "source": [
    "pessoa = nome_formatado('Elder', 'Samuel') \n",
    "print(pessoa)"
   ]
  },
  {
   "cell_type": "markdown",
   "metadata": {},
   "source": [
    "Deixando um argumento posicional\n",
    "\n",
    "Às vezes, faz sentido criar um argumento opcional para que as pessoas\n",
    "que usarem a função possam optar por fornecer informações extras\n",
    "somente se quiserem. Valores default podem ser usados para deixar um\n",
    "argumento opcional."
   ]
  },
  {
   "cell_type": "code",
   "execution_count": 16,
   "metadata": {},
   "outputs": [
    {
     "name": "stdout",
     "output_type": "stream",
     "text": [
      "Elder Samuel Taveira\n"
     ]
    }
   ],
   "source": [
    "#Suponha que agora queremos trabalhar com o nome do meio também\n",
    "def nome_formatado_total(primeiro_nome, nome_meio, segundo_nome):\n",
    "    \"\"\"Devolve o nome completo formatado\"\"\"\n",
    "    completo = primeiro_nome + ' ' + nome_meio + ' ' + segundo_nome\n",
    "    return completo.title()\n",
    "\n",
    "nome_completo = nome_formatado_total('elder', 'samuel', 'taveira')\n",
    "print(nome_completo)"
   ]
  },
  {
   "cell_type": "code",
   "execution_count": 18,
   "metadata": {},
   "outputs": [
    {
     "name": "stdout",
     "output_type": "stream",
     "text": [
      "Elder Taveira Samuel\n",
      "Elder Taveira\n"
     ]
    }
   ],
   "source": [
    "#definimos um valor default de nome_meio com uma string vazia:\n",
    "def nome_formatado_op(primeiro_nome, segundo_nome,  nome_meio=''):\n",
    "    \"\"\"Devolve o nome completo formatado\"\"\"\n",
    "    if nome_meio:\n",
    "        completo = primeiro_nome + ' ' + nome_meio + ' ' + segundo_nome\n",
    "    else:\n",
    "        completo = primeiro_nome + ' ' + segundo_nome\n",
    "    return completo.title()\n",
    "\n",
    "nome_completo = nome_formatado_op('elder', 'samuel', 'taveira')\n",
    "nome_completo2 = nome_formatado_op('elder', 'taveira')\n",
    "print(nome_completo)\n",
    "print(nome_completo2) "
   ]
  },
  {
   "cell_type": "markdown",
   "metadata": {},
   "source": [
    "Devolvendo um dicionário"
   ]
  },
  {
   "cell_type": "code",
   "execution_count": 19,
   "metadata": {},
   "outputs": [
    {
     "name": "stdout",
     "output_type": "stream",
     "text": [
      "{'primeiro': 'elder', 'ultimo': 'taveira'}\n"
     ]
    }
   ],
   "source": [
    "def pessoas(primeiro_nome, ultimo_nome):\n",
    "    \"\"\"Devolve um dicionário sobre uma pessoa\"\"\"\n",
    "    person = {'primeiro': primeiro_nome, 'ultimo':ultimo_nome}\n",
    "    return person\n",
    "\n",
    "resultado = pessoas('elder', 'taveira')\n",
    "print(resultado)"
   ]
  },
  {
   "cell_type": "markdown",
   "metadata": {},
   "source": [
    "Podemos facilmente estender essa função para que aceite valores\n",
    "opcionais como um nome do meio, uma idade, uma profissão ou\n",
    "qualquer outra informação que você queira armazenar sobre uma\n",
    "pessoa."
   ]
  },
  {
   "cell_type": "code",
   "execution_count": 21,
   "metadata": {},
   "outputs": [
    {
     "name": "stdout",
     "output_type": "stream",
     "text": [
      "{'primeiro': 'elder', 'ultimo': 'taveira', 'idade': 29}\n"
     ]
    }
   ],
   "source": [
    "def pessoas(primeiro_nome, ultimo_nome, idade=''):\n",
    "    \"\"\"Devolve um dicionário sobre uma pessoa\"\"\"\n",
    "    person = {'primeiro': primeiro_nome, 'ultimo':ultimo_nome}\n",
    "    if idade:\n",
    "        person['idade'] = idade\n",
    "    return person\n",
    "\n",
    "resultado = pessoas('elder', 'taveira', 29)\n",
    "print(resultado)"
   ]
  },
  {
   "cell_type": "markdown",
   "metadata": {},
   "source": [
    "Usando uma função com um laço while"
   ]
  },
  {
   "cell_type": "code",
   "execution_count": 38,
   "metadata": {},
   "outputs": [
    {
     "name": "stdout",
     "output_type": "stream",
     "text": [
      "\n",
      "Por favor me diga seu nome: \n",
      "digite \"q\" quando desejar sair\n",
      "\n",
      "Olá, Elder Silva!\n",
      "\n",
      "Por favor me diga seu nome: \n",
      "digite \"q\" quando desejar sair\n",
      "\n",
      "Olá, Taveira Melo!\n",
      "\n",
      "Por favor me diga seu nome: \n",
      "digite \"q\" quando desejar sair\n"
     ]
    }
   ],
   "source": [
    "def coletar_nome(primeiro_nome, ultimo_nome):\n",
    "    \"\"\"Devolve um nome completo de forma elegante\"\"\"\n",
    "    full_name = primeiro_nome + \" \" + ultimo_nome\n",
    "    return full_name.title()\n",
    "\n",
    "while True:\n",
    "    print('\\nPor favor me diga seu nome: ')\n",
    "    print('digite \"q\" quando desejar sair')\n",
    "        \n",
    "    p_nome = input(\"Primeiro nome: \")\n",
    "    if p_nome == 'q': \n",
    "        break\n",
    "        \n",
    "    u_nome = input(\"Ultimo nome: \")\n",
    "    if u_nome == 'q': \n",
    "        break\n",
    "        \n",
    "    teste = coletar_nome(p_nome, u_nome)\n",
    "    print(f\"\\nOlá, {teste}!\")\n"
   ]
  },
  {
   "cell_type": "markdown",
   "metadata": {},
   "source": [
    "Passando uma lista para uma função"
   ]
  },
  {
   "cell_type": "code",
   "execution_count": 39,
   "metadata": {},
   "outputs": [],
   "source": [
    "def cumprimentar(nomes):\n",
    "    \"\"\"Exibe uma saudação simples para cada usuário da lista\"\"\"\n",
    "    for nome in nomes:\n",
    "        msg = \"Olá, \" + nome.title() + \"!\"\n",
    "        print(msg)"
   ]
  },
  {
   "cell_type": "code",
   "execution_count": 40,
   "metadata": {},
   "outputs": [
    {
     "name": "stdout",
     "output_type": "stream",
     "text": [
      "Olá, Elder!\n",
      "Olá, Ytalo!\n",
      "Olá, Debora!\n"
     ]
    }
   ],
   "source": [
    "pessoas = ['elder', 'ytalo', 'debora']\n",
    "cumprimentar(pessoas)"
   ]
  },
  {
   "cell_type": "markdown",
   "metadata": {},
   "source": [
    "Modificando uma lista em uma função"
   ]
  },
  {
   "cell_type": "code",
   "execution_count": 43,
   "metadata": {},
   "outputs": [
    {
     "name": "stdout",
     "output_type": "stream",
     "text": [
      "Fazendo o modelo: caixa\n",
      "Fazendo o modelo: pet de armário\n",
      "Fazendo o modelo: capa de celular\n",
      "\n",
      "Os itens a seguir foram printados: \n",
      "caixa\n",
      "pet de armário\n",
      "capa de celular\n"
     ]
    }
   ],
   "source": [
    "#Lista de coisas para serem impressas: \n",
    "lista_pendente = ['capa de celular', 'pet de armário', 'caixa']\n",
    "lista_finalizada = []\n",
    "\n",
    "while lista_pendente:\n",
    "    lista_atual = lista_pendente.pop()\n",
    "\n",
    "    print(f\"Fazendo o modelo: {lista_atual}\")\n",
    "    lista_finalizada.append(lista_atual)\n",
    "\n",
    "print(\"\\nOs itens a seguir foram printados: \")\n",
    "for item in lista_finalizada:\n",
    "    print(item)\n"
   ]
  },
  {
   "cell_type": "markdown",
   "metadata": {},
   "source": [
    "Podemos reorganizar esse código escrevendo duas funções, em que cada uma executa uma tarefa específica."
   ]
  },
  {
   "cell_type": "code",
   "execution_count": 44,
   "metadata": {},
   "outputs": [
    {
     "ename": "IndentationError",
     "evalue": "expected an indented block after 'while' statement on line 4 (2774187651.py, line 5)",
     "output_type": "error",
     "traceback": [
      "\u001b[0;36m  Cell \u001b[0;32mIn[44], line 5\u001b[0;36m\u001b[0m\n\u001b[0;31m    lista_atual = lista_pendente.pop()\u001b[0m\n\u001b[0m    ^\u001b[0m\n\u001b[0;31mIndentationError\u001b[0m\u001b[0;31m:\u001b[0m expected an indented block after 'while' statement on line 4\n"
     ]
    }
   ],
   "source": [
    "def print_modelos(lista_pendente, lista_finalizada):\n",
    "    \"\"\"Simula a impressão de cada design, até que não \n",
    "        haja mais nenhum. Transfere cada design após a impressão\"\"\"\n",
    "    while lista_pendente:\n",
    "        lista_atual = lista_pendente.pop()\n",
    "\n",
    "        print(f\"Fazendo o modelo: {lista_atual}\")\n",
    "        lista_finalizada.append(lista_atual)\n",
    "\n",
    "def mostra_modelos_finalizados(lista_finalizada):\n",
    "    print(\"\\nOs itens a seguir foram printados: \")\n",
    "    for item in lista_finalizada:\n",
    "        print(item)"
   ]
  }
 ],
 "metadata": {
  "kernelspec": {
   "display_name": "Python 3 (ipykernel)",
   "language": "python",
   "name": "python3"
  },
  "language_info": {
   "codemirror_mode": {
    "name": "ipython",
    "version": 3
   },
   "file_extension": ".py",
   "mimetype": "text/x-python",
   "name": "python",
   "nbconvert_exporter": "python",
   "pygments_lexer": "ipython3",
   "version": "3.11.6"
  }
 },
 "nbformat": 4,
 "nbformat_minor": 2
}

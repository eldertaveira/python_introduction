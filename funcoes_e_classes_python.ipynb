{
 "cells": [
  {
   "cell_type": "markdown",
   "metadata": {},
   "source": [
    "# Funções"
   ]
  },
  {
   "cell_type": "markdown",
   "metadata": {},
   "source": [
    "Uma função simples é composta por: \n",
    "1. def nome_funcao(parâmetros)\n",
    "2.  \"\"\"Docstring, que diz o que a função faz\"\"\"\n",
    "3. print(\"exemplo\")  <-- A função apenas fará um simples print. "
   ]
  },
  {
   "cell_type": "code",
   "execution_count": 3,
   "metadata": {},
   "outputs": [],
   "source": [
    "def saudacao():\n",
    "    \"\"\"Exibe uma saudação simples\"\"\"\n",
    "    print(\"Hello!\")"
   ]
  },
  {
   "cell_type": "markdown",
   "metadata": {},
   "source": [
    "Agora, vamos chamar a função, que não tem parâmetro nenhum e já vai imprimir na tela a simples mensagem."
   ]
  },
  {
   "cell_type": "code",
   "execution_count": 4,
   "metadata": {},
   "outputs": [
    {
     "name": "stdout",
     "output_type": "stream",
     "text": [
      "Hello!\n"
     ]
    }
   ],
   "source": [
    "saudacao()"
   ]
  },
  {
   "cell_type": "markdown",
   "metadata": {},
   "source": [
    "Passando informações para uma função"
   ]
  },
  {
   "cell_type": "code",
   "execution_count": 5,
   "metadata": {},
   "outputs": [
    {
     "name": "stdout",
     "output_type": "stream",
     "text": [
      "Olá Elder!\n"
     ]
    }
   ],
   "source": [
    "def saudacao_user(nome):\n",
    "    \"\"\"Exibe uma saudação simples\"\"\"\n",
    "    print(f\"Olá {nome}!\")\n",
    "\n",
    "saudacao_user('Elder')"
   ]
  },
  {
   "cell_type": "markdown",
   "metadata": {},
   "source": [
    "#### **Argumentos e parâmetros**"
   ]
  },
  {
   "cell_type": "markdown",
   "metadata": {},
   "source": [
    "Na função acima, usamos a variável nome para receber um valor. A variável usada é um exemplo de parâmetro, uma informação de que a função precisa para executar sua tarefa. \n",
    "O valor 'Elder' em saudacao_user('Elder') é um exemplo de argumento. Um argumento é uma informação passada para uma função ser chamada. \n",
    "Quando chamamos a função, colocamos entre parênteses o valor com que queremos que a função trabalhe. Nesse caso, **o argumento 'Elder'** foi passado para a função saudacao_user() e o valor foi armazenado no **parâmetro nome**."
   ]
  },
  {
   "cell_type": "code",
   "execution_count": 9,
   "metadata": {},
   "outputs": [],
   "source": [
    "def livro_favorito(livro):\n",
    "    \"\"\"Exibe qual é seu livro favorito\"\"\"\n",
    "    print(f\"O meu livro favorito é: {livro}\")"
   ]
  },
  {
   "cell_type": "code",
   "execution_count": 10,
   "metadata": {},
   "outputs": [
    {
     "name": "stdout",
     "output_type": "stream",
     "text": [
      "O meu livro favorito é: O código Da Vinci\n"
     ]
    }
   ],
   "source": [
    "livro_favorito(\"O código Da Vinci\")"
   ]
  },
  {
   "cell_type": "markdown",
   "metadata": {},
   "source": [
    "Argumentos posicionais"
   ]
  },
  {
   "cell_type": "code",
   "execution_count": null,
   "metadata": {},
   "outputs": [],
   "source": [
    "def descreve_animal(tipo, nome_pet):\n",
    "    \"\"\"Exibe informações sobre pet\"\"\"\n",
    "    print(f\"Eu tenho um {tipo}.\")\n",
    "    print(f\"Meu {tipo} se chama {nome_pet.title()}\")"
   ]
  },
  {
   "cell_type": "code",
   "execution_count": null,
   "metadata": {},
   "outputs": [],
   "source": [
    "descreve_animal('gato', '')"
   ]
  },
  {
   "cell_type": "code",
   "execution_count": null,
   "metadata": {},
   "outputs": [],
   "source": [
    "descre"
   ]
  }
 ],
 "metadata": {
  "kernelspec": {
   "display_name": "Python 3 (ipykernel)",
   "language": "python",
   "name": "python3"
  },
  "language_info": {
   "codemirror_mode": {
    "name": "ipython",
    "version": 3
   },
   "file_extension": ".py",
   "mimetype": "text/x-python",
   "name": "python",
   "nbconvert_exporter": "python",
   "pygments_lexer": "ipython3",
   "version": "3.11.6"
  }
 },
 "nbformat": 4,
 "nbformat_minor": 2
}

{
 "cells": [
  {
   "cell_type": "markdown",
   "metadata": {},
   "source": [
    "# Funções"
   ]
  },
  {
   "cell_type": "markdown",
   "metadata": {},
   "source": [
    "Uma função simples é composta por: \n",
    "1. def nome_funcao(parâmetros)\n",
    "2.  \"\"\"Docstring, que diz o que a função faz\"\"\"\n",
    "3. print(\"exemplo\")  <-- A função apenas fará um simples print. "
   ]
  },
  {
   "cell_type": "code",
   "execution_count": 3,
   "metadata": {},
   "outputs": [],
   "source": [
    "def saudacao():\n",
    "    \"\"\"Exibe uma saudação simples\"\"\"\n",
    "    print(\"Hello!\")"
   ]
  },
  {
   "cell_type": "markdown",
   "metadata": {},
   "source": [
    "Agora, vamos chamar a função, que não tem parâmetro nenhum e já vai imprimir na tela a simples mensagem."
   ]
  },
  {
   "cell_type": "code",
   "execution_count": 4,
   "metadata": {},
   "outputs": [
    {
     "name": "stdout",
     "output_type": "stream",
     "text": [
      "Hello!\n"
     ]
    }
   ],
   "source": [
    "saudacao()"
   ]
  },
  {
   "cell_type": "markdown",
   "metadata": {},
   "source": [
    "Passando informações para uma função"
   ]
  },
  {
   "cell_type": "code",
   "execution_count": 5,
   "metadata": {},
   "outputs": [
    {
     "name": "stdout",
     "output_type": "stream",
     "text": [
      "Olá Elder!\n"
     ]
    }
   ],
   "source": [
    "def saudacao_user(nome):\n",
    "    \"\"\"Exibe uma saudação simples\"\"\"\n",
    "    print(f\"Olá {nome}!\")\n",
    "\n",
    "saudacao_user('Elder')"
   ]
  },
  {
   "cell_type": "markdown",
   "metadata": {},
   "source": [
    "#### **Argumentos e parâmetros**"
   ]
  },
  {
   "cell_type": "markdown",
   "metadata": {},
   "source": [
    "Na função acima, usamos a variável nome para receber um valor. A variável usada é um exemplo de parâmetro, uma informação de que a função precisa para executar sua tarefa. \n",
    "O valor 'Elder' em saudacao_user('Elder') é um exemplo de argumento. Um argumento é uma informação passada para uma função ser chamada. \n",
    "Quando chamamos a função, colocamos entre parênteses o valor com que queremos que a função trabalhe. Nesse caso, **o argumento 'Elder'** foi passado para a função saudacao_user() e o valor foi armazenado no **parâmetro nome**."
   ]
  },
  {
   "cell_type": "code",
   "execution_count": 9,
   "metadata": {},
   "outputs": [],
   "source": [
    "def livro_favorito(livro):\n",
    "    \"\"\"Exibe qual é seu livro favorito\"\"\"\n",
    "    print(f\"O meu livro favorito é: {livro}\")"
   ]
  },
  {
   "cell_type": "code",
   "execution_count": 10,
   "metadata": {},
   "outputs": [
    {
     "name": "stdout",
     "output_type": "stream",
     "text": [
      "O meu livro favorito é: O código Da Vinci\n"
     ]
    }
   ],
   "source": [
    "livro_favorito(\"O código Da Vinci\")"
   ]
  },
  {
   "cell_type": "markdown",
   "metadata": {},
   "source": [
    "Argumentos posicionais"
   ]
  },
  {
   "cell_type": "code",
   "execution_count": 3,
   "metadata": {},
   "outputs": [],
   "source": [
    "def descreve_animal(tipo, nome_pet):\n",
    "    \"\"\"Exibe informações sobre pet\"\"\"\n",
    "    print(f\"Eu tenho um {tipo}.\")\n",
    "    print(f\"Meu {tipo} se chama {nome_pet.title()}\")"
   ]
  },
  {
   "cell_type": "code",
   "execution_count": 4,
   "metadata": {},
   "outputs": [
    {
     "name": "stdout",
     "output_type": "stream",
     "text": [
      "Eu tenho um gato.\n",
      "Meu gato se chama Maurice\n"
     ]
    }
   ],
   "source": [
    "descreve_animal('gato', 'maurice')"
   ]
  },
  {
   "cell_type": "markdown",
   "metadata": {},
   "source": [
    "***A ordem é importante em argumentos posicionais***"
   ]
  },
  {
   "cell_type": "markdown",
   "metadata": {},
   "source": [
    "Argumentos nomeados\n",
    "\n",
    "Um argumento nomeado (keyword argument) é um par nome-valor passado para uma função. Associamos diretamente o nome e o valor no próprio argumento para que não haja confusão quando ele for passado para a função."
   ]
  },
  {
   "cell_type": "code",
   "execution_count": 5,
   "metadata": {},
   "outputs": [
    {
     "name": "stdout",
     "output_type": "stream",
     "text": [
      "Eu tenho um gato.\n",
      "Meu gato se chama Mimi\n"
     ]
    }
   ],
   "source": [
    "descreve_animal(tipo='gato', nome_pet='Mimi')"
   ]
  },
  {
   "cell_type": "markdown",
   "metadata": {},
   "source": [
    "A função descreve_animal() não mudou. Entretanto, quando chamamos a função, dizemos explicitamente a Python a qual parâmetro cada argumento deve corresponder."
   ]
  },
  {
   "cell_type": "markdown",
   "metadata": {},
   "source": [
    "Valores default\n",
    "\n",
    "Ao escrever uma função, podemos definir um valor default para cada\n",
    "parâmetro. Se um argumento para um parâmetro for especificado na\n",
    "chamada da função, Python usará o valor desse argumento. Se não for,\n",
    "o valor default do parâmetro será utilizado."
   ]
  },
  {
   "cell_type": "code",
   "execution_count": 6,
   "metadata": {},
   "outputs": [],
   "source": [
    "def descreve_pet(nome_pet, tipo='cachorro'):\n",
    "    \"\"\"Exibe informações sobre pet\"\"\"\n",
    "    print(f\"Eu tenho um {tipo}.\")\n",
    "    print(f\"Meu {tipo} se chama {nome_pet.title()}\")"
   ]
  },
  {
   "cell_type": "code",
   "execution_count": 7,
   "metadata": {},
   "outputs": [
    {
     "name": "stdout",
     "output_type": "stream",
     "text": [
      "Eu tenho um cachorro.\n",
      "Meu cachorro se chama Bobs\n"
     ]
    }
   ],
   "source": [
    "descreve_pet('Bobs')"
   ]
  },
  {
   "cell_type": "markdown",
   "metadata": {},
   "source": [
    "Apesar do valor defeault, você pode usar a função normalmente:"
   ]
  },
  {
   "cell_type": "code",
   "execution_count": 8,
   "metadata": {},
   "outputs": [
    {
     "name": "stdout",
     "output_type": "stream",
     "text": [
      "Eu tenho um peixe.\n",
      "Meu peixe se chama Nemo\n"
     ]
    }
   ],
   "source": [
    "descreve_pet(nome_pet='nemo', tipo='peixe')"
   ]
  },
  {
   "cell_type": "markdown",
   "metadata": {},
   "source": [
    "## Valores de Retorno"
   ]
  },
  {
   "cell_type": "markdown",
   "metadata": {},
   "source": [
    "Uma função nem sempre precisa exibir sua saída diretamente. Em vez\n",
    "disso, ela pode processar alguns dados e então devolver um valor ou um\n",
    "conjunto de valores. O valor devolvido pela função é chamado de valor\n",
    "de retorno. A instrução return toma um valor que está em uma função e o envia de volta à linha que a chamou. Valores de retorno permitem passar boa parte do trabalho pesado de um programa para funções, o que pode simplificar o corpo de seu programa."
   ]
  },
  {
   "cell_type": "code",
   "execution_count": 9,
   "metadata": {},
   "outputs": [],
   "source": [
    "def nome_formatado(primeiro_nome, segundo_nome):\n",
    "    \"\"\"Devolve o nome completo formatado\"\"\"\n",
    "    completo = primeiro_nome + ' ' + segundo_nome\n",
    "    return completo.title()"
   ]
  },
  {
   "cell_type": "code",
   "execution_count": 14,
   "metadata": {},
   "outputs": [
    {
     "name": "stdout",
     "output_type": "stream",
     "text": [
      "Elder Samuel\n"
     ]
    }
   ],
   "source": [
    "pessoa = nome_formatado('Elder', 'Samuel') \n",
    "print(pessoa)"
   ]
  },
  {
   "cell_type": "markdown",
   "metadata": {},
   "source": [
    "Deixando um argumento posicional\n",
    "\n",
    "Às vezes, faz sentido criar um argumento opcional para que as pessoas\n",
    "que usarem a função possam optar por fornecer informações extras\n",
    "somente se quiserem. Valores default podem ser usados para deixar um\n",
    "argumento opcional."
   ]
  },
  {
   "cell_type": "code",
   "execution_count": 16,
   "metadata": {},
   "outputs": [
    {
     "name": "stdout",
     "output_type": "stream",
     "text": [
      "Elder Samuel Taveira\n"
     ]
    }
   ],
   "source": [
    "#Suponha que agora queremos trabalhar com o nome do meio também\n",
    "def nome_formatado_total(primeiro_nome, nome_meio, segundo_nome):\n",
    "    \"\"\"Devolve o nome completo formatado\"\"\"\n",
    "    completo = primeiro_nome + ' ' + nome_meio + ' ' + segundo_nome\n",
    "    return completo.title()\n",
    "\n",
    "nome_completo = nome_formatado_total('elder', 'samuel', 'taveira')\n",
    "print(nome_completo)"
   ]
  },
  {
   "cell_type": "code",
   "execution_count": 18,
   "metadata": {},
   "outputs": [
    {
     "name": "stdout",
     "output_type": "stream",
     "text": [
      "Elder Taveira Samuel\n",
      "Elder Taveira\n"
     ]
    }
   ],
   "source": [
    "#definimos um valor default de nome_meio com uma string vazia:\n",
    "def nome_formatado_op(primeiro_nome, segundo_nome,  nome_meio=''):\n",
    "    \"\"\"Devolve o nome completo formatado\"\"\"\n",
    "    if nome_meio:\n",
    "        completo = primeiro_nome + ' ' + nome_meio + ' ' + segundo_nome\n",
    "    else:\n",
    "        completo = primeiro_nome + ' ' + segundo_nome\n",
    "    return completo.title()\n",
    "\n",
    "nome_completo = nome_formatado_op('elder', 'samuel', 'taveira')\n",
    "nome_completo2 = nome_formatado_op('elder', 'taveira')\n",
    "print(nome_completo)\n",
    "print(nome_completo2) "
   ]
  },
  {
   "cell_type": "markdown",
   "metadata": {},
   "source": [
    "Devolvendo um dicionário"
   ]
  },
  {
   "cell_type": "code",
   "execution_count": 19,
   "metadata": {},
   "outputs": [
    {
     "name": "stdout",
     "output_type": "stream",
     "text": [
      "{'primeiro': 'elder', 'ultimo': 'taveira'}\n"
     ]
    }
   ],
   "source": [
    "def pessoas(primeiro_nome, ultimo_nome):\n",
    "    \"\"\"Devolve um dicionário sobre uma pessoa\"\"\"\n",
    "    person = {'primeiro': primeiro_nome, 'ultimo':ultimo_nome}\n",
    "    return person\n",
    "\n",
    "resultado = pessoas('elder', 'taveira')\n",
    "print(resultado)"
   ]
  },
  {
   "cell_type": "markdown",
   "metadata": {},
   "source": [
    "Podemos facilmente estender essa função para que aceite valores\n",
    "opcionais como um nome do meio, uma idade, uma profissão ou\n",
    "qualquer outra informação que você queira armazenar sobre uma\n",
    "pessoa."
   ]
  },
  {
   "cell_type": "code",
   "execution_count": 21,
   "metadata": {},
   "outputs": [
    {
     "name": "stdout",
     "output_type": "stream",
     "text": [
      "{'primeiro': 'elder', 'ultimo': 'taveira', 'idade': 29}\n"
     ]
    }
   ],
   "source": [
    "def pessoas(primeiro_nome, ultimo_nome, idade=''):\n",
    "    \"\"\"Devolve um dicionário sobre uma pessoa\"\"\"\n",
    "    person = {'primeiro': primeiro_nome, 'ultimo':ultimo_nome}\n",
    "    if idade:\n",
    "        person['idade'] = idade\n",
    "    return person\n",
    "\n",
    "resultado = pessoas('elder', 'taveira', 29)\n",
    "print(resultado)"
   ]
  },
  {
   "cell_type": "markdown",
   "metadata": {},
   "source": [
    "Usando uma função com um laço while"
   ]
  },
  {
   "cell_type": "code",
   "execution_count": 38,
   "metadata": {},
   "outputs": [
    {
     "name": "stdout",
     "output_type": "stream",
     "text": [
      "\n",
      "Por favor me diga seu nome: \n",
      "digite \"q\" quando desejar sair\n",
      "\n",
      "Olá, Elder Silva!\n",
      "\n",
      "Por favor me diga seu nome: \n",
      "digite \"q\" quando desejar sair\n",
      "\n",
      "Olá, Taveira Melo!\n",
      "\n",
      "Por favor me diga seu nome: \n",
      "digite \"q\" quando desejar sair\n"
     ]
    }
   ],
   "source": [
    "def coletar_nome(primeiro_nome, ultimo_nome):\n",
    "    \"\"\"Devolve um nome completo de forma elegante\"\"\"\n",
    "    full_name = primeiro_nome + \" \" + ultimo_nome\n",
    "    return full_name.title()\n",
    "\n",
    "while True:\n",
    "    print('\\nPor favor me diga seu nome: ')\n",
    "    print('digite \"q\" quando desejar sair')\n",
    "        \n",
    "    p_nome = input(\"Primeiro nome: \")\n",
    "    if p_nome == 'q': \n",
    "        break\n",
    "        \n",
    "    u_nome = input(\"Ultimo nome: \")\n",
    "    if u_nome == 'q': \n",
    "        break\n",
    "        \n",
    "    teste = coletar_nome(p_nome, u_nome)\n",
    "    print(f\"\\nOlá, {teste}!\")\n"
   ]
  },
  {
   "cell_type": "markdown",
   "metadata": {},
   "source": [
    "Passando uma lista para uma função"
   ]
  },
  {
   "cell_type": "code",
   "execution_count": 39,
   "metadata": {},
   "outputs": [],
   "source": [
    "def cumprimentar(nomes):\n",
    "    \"\"\"Exibe uma saudação simples para cada usuário da lista\"\"\"\n",
    "    for nome in nomes:\n",
    "        msg = \"Olá, \" + nome.title() + \"!\"\n",
    "        print(msg)"
   ]
  },
  {
   "cell_type": "code",
   "execution_count": 40,
   "metadata": {},
   "outputs": [
    {
     "name": "stdout",
     "output_type": "stream",
     "text": [
      "Olá, Elder!\n",
      "Olá, Ytalo!\n",
      "Olá, Debora!\n"
     ]
    }
   ],
   "source": [
    "pessoas = ['elder', 'ytalo', 'debora']\n",
    "cumprimentar(pessoas)"
   ]
  },
  {
   "cell_type": "markdown",
   "metadata": {},
   "source": [
    "Modificando uma lista em uma função"
   ]
  },
  {
   "cell_type": "code",
   "execution_count": 43,
   "metadata": {},
   "outputs": [
    {
     "name": "stdout",
     "output_type": "stream",
     "text": [
      "Fazendo o modelo: caixa\n",
      "Fazendo o modelo: pet de armário\n",
      "Fazendo o modelo: capa de celular\n",
      "\n",
      "Os itens a seguir foram printados: \n",
      "caixa\n",
      "pet de armário\n",
      "capa de celular\n"
     ]
    }
   ],
   "source": [
    "#Lista de coisas para serem impressas: \n",
    "lista_pendente = ['capa de celular', 'pet de armário', 'caixa']\n",
    "lista_finalizada = []\n",
    "\n",
    "while lista_pendente:\n",
    "    lista_atual = lista_pendente.pop()\n",
    "\n",
    "    print(f\"Fazendo o modelo: {lista_atual}\")\n",
    "    lista_finalizada.append(lista_atual)\n",
    "\n",
    "print(\"\\nOs itens a seguir foram printados: \")\n",
    "for item in lista_finalizada:\n",
    "    print(item)\n"
   ]
  },
  {
   "cell_type": "markdown",
   "metadata": {},
   "source": [
    "Podemos reorganizar esse código escrevendo duas funções, em que cada uma executa uma tarefa específica."
   ]
  },
  {
   "cell_type": "code",
   "execution_count": 45,
   "metadata": {},
   "outputs": [],
   "source": [
    "def print_modelos(lista_pendente, lista_finalizada):\n",
    "    \"\"\"Simula a impressão de cada design, até que não \n",
    "        haja mais nenhum. Transfere cada design após a impressão\"\"\"\n",
    "    while lista_pendente:\n",
    "        lista_atual = lista_pendente.pop()\n",
    "\n",
    "        print(f\"Fazendo o modelo: {lista_atual}\")\n",
    "        lista_finalizada.append(lista_atual)\n",
    "\n",
    "def mostra_modelos_finalizados(lista_finalizada):\n",
    "    print(\"\\nOs itens a seguir foram printados: \")\n",
    "    for item in lista_finalizada:\n",
    "        print(item)"
   ]
  },
  {
   "cell_type": "code",
   "execution_count": 46,
   "metadata": {},
   "outputs": [
    {
     "name": "stdout",
     "output_type": "stream",
     "text": [
      "Fazendo o modelo: tesoura de plástico\n",
      "Fazendo o modelo: quadro\n",
      "Fazendo o modelo: pet de armário\n",
      "\n",
      "Os itens a seguir foram printados: \n",
      "tesoura de plástico\n",
      "quadro\n",
      "pet de armário\n"
     ]
    }
   ],
   "source": [
    "lista_pendente = ['pet de armário', 'quadro', 'tesoura de plástico']\n",
    "lista_finalzada = []\n",
    "\n",
    "print_modelos(lista_pendente, lista_finalzada)\n",
    "mostra_modelos_finalizados(lista_finalzada)"
   ]
  },
  {
   "cell_type": "markdown",
   "metadata": {},
   "source": [
    "Passando um número arbitrário de documentos\n",
    "\n",
    "Às vezes, você não saberá com antecedência quantos argumentos uma\n",
    "função deve aceitar. Felizmente, Python permite que uma função receba\n",
    "um número arbitrário de argumentos da instrução de chamada."
   ]
  },
  {
   "cell_type": "code",
   "execution_count": 53,
   "metadata": {},
   "outputs": [],
   "source": [
    "#O parâmetro *topicos os argumentos que forem fornecidos em uma tupla.\n",
    "def fazer_pizza(*topicos):\n",
    "    \"\"\"Exibe a lista de ingredientes pedidos.\"\"\"\n",
    "    print(f\"Sua pizza será feita com: {topicos}\")"
   ]
  },
  {
   "cell_type": "code",
   "execution_count": 54,
   "metadata": {},
   "outputs": [
    {
     "name": "stdout",
     "output_type": "stream",
     "text": [
      "Sua pizza será feita com: ('peperoni',)\n"
     ]
    }
   ],
   "source": [
    "fazer_pizza('peperoni')"
   ]
  },
  {
   "cell_type": "code",
   "execution_count": 55,
   "metadata": {},
   "outputs": [
    {
     "name": "stdout",
     "output_type": "stream",
     "text": [
      "Sua pizza será feita com: ('mussarela', 'calabresa', 'champion')\n"
     ]
    }
   ],
   "source": [
    "fazer_pizza('mussarela', 'calabresa', 'champion')"
   ]
  },
  {
   "cell_type": "markdown",
   "metadata": {},
   "source": [
    "Podemos incluir um laço FOR para melhorar a saída:"
   ]
  },
  {
   "cell_type": "code",
   "execution_count": 56,
   "metadata": {},
   "outputs": [],
   "source": [
    "def fazer_pizza(*topicos):\n",
    "    \"\"\"Exibe a lista de ingredientes pedidos.\"\"\"\n",
    "    print(f\"Sua pizza será feita com: \")\n",
    "    for item in topicos:\n",
    "        print('- ' + item)"
   ]
  },
  {
   "cell_type": "code",
   "execution_count": 57,
   "metadata": {},
   "outputs": [
    {
     "name": "stdout",
     "output_type": "stream",
     "text": [
      "Sua pizza será feita com: \n",
      "- mussarela\n",
      "- calabresa\n",
      "- champion\n"
     ]
    }
   ],
   "source": [
    "fazer_pizza('mussarela', 'calabresa', 'champion')"
   ]
  },
  {
   "cell_type": "markdown",
   "metadata": {},
   "source": [
    "Misturando argumentos posicionais e arbitrários\n",
    "\n",
    "Se quiser que uma função aceite vários tipos de argumentos, o\n",
    "parâmetro que aceita um número arbitrário de argumentos deve ser\n",
    "colocado por último na definição da função. \n",
    "Python faz a correspondência de argumentos posicionais e nomeados antes, e depois agrupa qualquer argumento remanescente no último parâmetro.\n"
   ]
  },
  {
   "cell_type": "code",
   "execution_count": 58,
   "metadata": {},
   "outputs": [],
   "source": [
    "#Vamos acrescentar o tamonho da pizza na função:\n",
    "def fazer_pizza(tamanho, *topicos):\n",
    "    \"\"\"Exibe a lista de ingredientes pedidos.\"\"\"\n",
    "    print(f\"Sua pizza tamanho {tamanho} será feita com: \")\n",
    "    for item in topicos:\n",
    "        print('- ' + item)"
   ]
  },
  {
   "cell_type": "code",
   "execution_count": 59,
   "metadata": {},
   "outputs": [
    {
     "name": "stdout",
     "output_type": "stream",
     "text": [
      "Sua pizza tamanho G será feita com: \n",
      "- mussarela\n",
      "- calabresa\n",
      "- champion\n"
     ]
    }
   ],
   "source": [
    "fazer_pizza('G', 'mussarela', 'calabresa', 'champion')"
   ]
  },
  {
   "cell_type": "markdown",
   "metadata": {},
   "source": [
    "**Usando argumentos nomeados arbitrários**\n",
    "\n",
    "Às vezes, você vai querer aceitar um número arbitrário de argumentos,\n",
    "mas não saberá com antecedência qual tipo de informação será passado\n",
    "para a função. Nesse caso, podemos escrever funções que aceitem\n",
    "tantos pares chave-valor quantos forem fornecidos pela instrução que\n",
    "faz a chamada. Um exemplo envolve criar perfis de usuários: você sabe\n",
    "que obterá informações sobre um usuário, mas não tem certeza quanto\n",
    "ao tipo de informação que receberá."
   ]
  },
  {
   "cell_type": "code",
   "execution_count": 60,
   "metadata": {},
   "outputs": [],
   "source": [
    "def criando_usuario(nome, ult_nome, **mais_infos):\n",
    "    \"\"\"\n",
    "    Constrói um dicionário contendo tudo que\n",
    "    sabemos sobre um usuário\n",
    "    \"\"\"\n",
    "    perfil = {}\n",
    "    perfil['nome'] = nome\n",
    "    perfil['ultimo_nome'] = ult_nome\n",
    "    for key, value in mais_infos.items():\n",
    "        perfil[key] = value\n",
    "    \n",
    "    return perfil\n"
   ]
  },
  {
   "cell_type": "code",
   "execution_count": 61,
   "metadata": {},
   "outputs": [
    {
     "name": "stdout",
     "output_type": "stream",
     "text": [
      "{'nome': 'albert', 'ultimo_nome': 'einstein', 'location': 'princeton', 'campo': 'física'}\n"
     ]
    }
   ],
   "source": [
    "usuario = criando_usuario('albert', 'einstein', location='princeton', campo='física')\n",
    "print(usuario)"
   ]
  },
  {
   "cell_type": "markdown",
   "metadata": {},
   "source": [
    "Os asteriscos duplos antes do\n",
    "parâmetro **mais_info fazem Python criar um dicionário vazio chamado\n",
    "user_info e colocar quaisquer pares nome-valor recebidos nesse\n",
    "dicionário. Nessa função, podemos acessar os pares nome-valor em\n",
    "mais_info como faríamos com qualquer dicionário.\n"
   ]
  },
  {
   "cell_type": "markdown",
   "metadata": {},
   "source": [
    "### Armazendo as funções em módulos\n",
    "\n",
    "Você pode dar um passo além armazenando suas funções em um arquivo\n",
    "separado chamado módulo e, então, importar esse módulo em seu programa principal. Uma instrução import diz a Python para deixar o\n",
    "código de um módulo disponível no arquivo de programa em execução\n",
    "no momento.\n"
   ]
  },
  {
   "cell_type": "code",
   "execution_count": 4,
   "metadata": {},
   "outputs": [
    {
     "name": "stdout",
     "output_type": "stream",
     "text": [
      "Sua pizza tamanho G será feita com: \n",
      "- peperoni\n"
     ]
    }
   ],
   "source": [
    "from aula_modulos_python.pizza import fazer_pizza\n",
    "\n",
    "fazer_pizza('G', 'peperoni')"
   ]
  },
  {
   "cell_type": "markdown",
   "metadata": {},
   "source": [
    "Usando a palavra reservada 'as' para atribuir um alias a um módulo.\n",
    "\n",
    "Também podemos fornecer um alias para um nome de módulo. Dar um alias conciso a um módulo, por exemplo, p para pizza, permite chamar mais rapidamente as funções do módulo. Chamar p.fazer_pizza() é mais\n",
    "compacto que chamar pizza.fazer_pizza():\n"
   ]
  },
  {
   "cell_type": "code",
   "execution_count": 5,
   "metadata": {},
   "outputs": [
    {
     "name": "stdout",
     "output_type": "stream",
     "text": [
      "Sua pizza tamanho M será feita com: \n",
      "- chocolate\n"
     ]
    }
   ],
   "source": [
    "import aula_modulos_python.pizza as p\n",
    "\n",
    "p.fazer_pizza('M', 'chocolate')"
   ]
  },
  {
   "cell_type": "markdown",
   "metadata": {},
   "source": [
    "Importando todas as funções de um módulo\n",
    "\n",
    "Podemos dizer a Python para importar todas as funções de um módulo usando o operador asterisco (*):"
   ]
  },
  {
   "cell_type": "code",
   "execution_count": 6,
   "metadata": {},
   "outputs": [
    {
     "name": "stdout",
     "output_type": "stream",
     "text": [
      "Sua pizza tamanho P será feita com: \n",
      "- quatro queijos\n"
     ]
    }
   ],
   "source": [
    "from aula_modulos_python.pizza import *\n",
    "\n",
    "fazer_pizza('P', 'quatro queijos')"
   ]
  },
  {
   "cell_type": "markdown",
   "metadata": {},
   "source": [
    "# Classes"
   ]
  },
  {
   "cell_type": "markdown",
   "metadata": {},
   "source": [
    "A Programação Orientada a Objetos (POO) é uma das abordagens mais eficientes para escrever software. Na programação orientada a objetos, escrevemos classes que representam entidades e situações do mundo real, e criamos objetos com base nessas classes. Quando escrevemos uma classe, definimos o comportamento geral que toda uma categoria de objetos pode ter"
   ]
  },
  {
   "cell_type": "markdown",
   "metadata": {},
   "source": [
    "Quando criamos objetos individuais a partir da classe, cada objeto será automaticamente equipado com o comportamento geral; então você\n",
    "poderá dar a cada objeto as características únicas que desejar. "
   ]
  },
  {
   "cell_type": "markdown",
   "metadata": {},
   "source": [
    "Criando a classe Dog"
   ]
  },
  {
   "cell_type": "code",
   "execution_count": 5,
   "metadata": {},
   "outputs": [],
   "source": [
    "#definindo a classe Cachorro.\n",
    "#as funções que fazer parte da classe são chamadas de métodos.\n",
    "class Cachorro():\n",
    "    \"\"\"Uma tentativa simples de modelar um cachorro\"\"\"\n",
    "    def __init__(self, nome, idade):\n",
    "        \"\"\"Inicializa os atributos nome e idade\"\"\"\n",
    "        self.nome = nome\n",
    "        self.idade = idade\n",
    "    def sentar(self):\n",
    "        \"\"\"Simula um cachorro sentado em resposta a um comando\"\"\"\n",
    "        print(self.nome.title() + \" está sentado\")\n",
    "    def rolar(self):\n",
    "        \"\"\"Simula um cachorro rolando em resposta a um comando.\"\"\"\n",
    "        print(self.nome.title() + \" rolou no chão\")"
   ]
  },
  {
   "cell_type": "markdown",
   "metadata": {},
   "source": [
    "Criando instância a partir de uma classe\n",
    "\n",
    "Pense em uma classe como um conjunto de instruções para criar uma\n",
    "instância. A classe Cachorro é um conjunto de instruções que diz a Python como criar instâncias individuais que representem cachorros específicos."
   ]
  },
  {
   "cell_type": "code",
   "execution_count": 3,
   "metadata": {},
   "outputs": [
    {
     "name": "stdout",
     "output_type": "stream",
     "text": [
      "Meu cachorro é Bobs.\n",
      "Meu cachorro tem 2 de idade\n"
     ]
    }
   ],
   "source": [
    "meu_cachorro = Cachorro('Bobs', 2)\n",
    "print(f\"Meu cachorro é {meu_cachorro.nome.title()}.\")\n",
    "print(f\"Meu cachorro tem {str(meu_cachorro.idade)} de idade\")"
   ]
  },
  {
   "cell_type": "markdown",
   "metadata": {},
   "source": [
    "Chamando os métodos"
   ]
  },
  {
   "cell_type": "code",
   "execution_count": 6,
   "metadata": {},
   "outputs": [
    {
     "name": "stdout",
     "output_type": "stream",
     "text": [
      "Bobs está sentado\n",
      "Bobs rolou no chão\n"
     ]
    }
   ],
   "source": [
    "meu_cachorro = Cachorro('Bobs', 2)\n",
    "meu_cachorro.sentar()\n",
    "meu_cachorro.rolar()"
   ]
  },
  {
   "cell_type": "markdown",
   "metadata": {},
   "source": [
    "Criando várias instâncias"
   ]
  },
  {
   "cell_type": "code",
   "execution_count": 10,
   "metadata": {},
   "outputs": [
    {
     "name": "stdout",
     "output_type": "stream",
     "text": [
      "Meu chacorro se chama Willie.\n",
      "Meu cacchorro tem 6 anos de idade.\n",
      "Willie está sentado\n",
      "\n",
      "Seu cachorro é Lucy\n",
      "Seu cachorro tem 3 anos de idade.\n",
      "Lucy rolou no chão\n"
     ]
    }
   ],
   "source": [
    "meu_cachorro = Cachorro('willie', 6) \n",
    "seu_cachorro = Cachorro('lucy', 3)\n",
    "print(\"Meu chacorro se chama \" + meu_cachorro.nome.title() + \".\") \n",
    "print(\"Meu cacchorro tem \" + str(meu_cachorro.idade) + \" anos de idade.\") \n",
    "meu_cachorro.sentar()\n",
    "\n",
    "print(f\"\\nSeu cachorro é {seu_cachorro.nome.title()}\")\n",
    "print(f\"Seu cachorro tem {str(seu_cachorro.idade)} anos de idade.\")\n",
    "seu_cachorro.rolar()"
   ]
  },
  {
   "cell_type": "markdown",
   "metadata": {},
   "source": [
    "Classe Carro"
   ]
  },
  {
   "cell_type": "code",
   "execution_count": 14,
   "metadata": {},
   "outputs": [],
   "source": [
    "class Carro():\n",
    "    \"\"\"Uma tentativa simples de representar um carro\"\"\"\n",
    "    def __init__(self, marca,modelo, ano):\n",
    "        \"\"\"Inicializa os atributos que descrevem o carro\"\"\"\n",
    "        self.marca = marca\n",
    "        self.modelo = modelo\n",
    "        self.ano = ano\n",
    "    def descreve_nome(self):\n",
    "        \"\"\"Devolve um nome descritivo, formatado\"\"\"\n",
    "        nome_elegante = self.marca + ' ' + self.modelo + ' ' + str(self.ano) \n",
    "        return nome_elegante.title()"
   ]
  },
  {
   "cell_type": "code",
   "execution_count": 15,
   "metadata": {},
   "outputs": [
    {
     "name": "stdout",
     "output_type": "stream",
     "text": [
      "Audi A4 2020\n"
     ]
    }
   ],
   "source": [
    "meu_carro = Carro('audi', 'a4', 2020)\n",
    "print(meu_carro.descreve_nome())"
   ]
  },
  {
   "cell_type": "markdown",
   "metadata": {},
   "source": [
    "Definindo um valor default para um atributo\n",
    "\n",
    "Todo atributo de uma classe precisa de um valor inicial, mesmo que esse valor seja 0 ou uma string vazia. Em alguns casos, por exemplo, quando definimos um valor default, faz sentido especificar esse valor inicial no corpo do método __init__(); se isso for feito para um atributo, você não precisará incluir um parâmetro para ele."
   ]
  },
  {
   "cell_type": "code",
   "execution_count": 19,
   "metadata": {},
   "outputs": [],
   "source": [
    "class Carro():\n",
    "    \"\"\"Uma tentativa simples de representar um carro\"\"\"\n",
    "    def __init__(self, marca,modelo, ano):\n",
    "        \"\"\"Inicializa os atributos que descrevem o carro\"\"\"\n",
    "        self.marca = marca\n",
    "        self.modelo = modelo\n",
    "        self.ano = ano\n",
    "        self.leitor_odometro = 0 #aqui criamos um novo atributo\n",
    "    def descreve_nome(self):\n",
    "        \"\"\"Devolve um nome descritivo, formatado\"\"\"\n",
    "        nome_elegante = self.marca + ' ' + self.modelo + ' ' + str(self.ano) \n",
    "        return nome_elegante.title()\n",
    "    def leitor_meu_odometro(self):\n",
    "        \"\"\"Exibe uma frase que mostra a milhagem do carro.\"\"\"\n",
    "        print(f\"Esse carro tem {str(self.leitor_odometro)} km rodados\")"
   ]
  },
  {
   "cell_type": "code",
   "execution_count": 21,
   "metadata": {},
   "outputs": [
    {
     "name": "stdout",
     "output_type": "stream",
     "text": [
      "Meu novo modelo é Honda City 2024\n",
      "Esse carro tem 0 km rodados\n"
     ]
    }
   ],
   "source": [
    "meu_novo_carro = Carro('honda', 'city', 2024)\n",
    "print(f\"Meu novo modelo é {meu_novo_carro.descreve_nome()}\")\n",
    "meu_novo_carro.leitor_meu_odometro()"
   ]
  },
  {
   "cell_type": "markdown",
   "metadata": {},
   "source": [
    "Modificando valores de atributos\n",
    "\n",
    "Você pode alterar o valor de um atributo de três maneiras: podemos\n",
    "modificar o valor diretamente por meio de uma instância, definir o valor com um método ou incrementá-lo (somar um determinado valor a ele)."
   ]
  },
  {
   "cell_type": "code",
   "execution_count": 22,
   "metadata": {},
   "outputs": [
    {
     "name": "stdout",
     "output_type": "stream",
     "text": [
      "Meu novo modelo é Toyota Corola 2023\n",
      "Esse carro tem 25 km rodados\n"
     ]
    }
   ],
   "source": [
    "#modificando de forma direta\n",
    "meu_novo_carro = Carro('toyota', 'corola', 2023)\n",
    "print(f\"Meu novo modelo é {meu_novo_carro.descreve_nome()}\")\n",
    "meu_novo_carro.leitor_odometro = 25\n",
    "meu_novo_carro.leitor_meu_odometro()"
   ]
  },
  {
   "cell_type": "markdown",
   "metadata": {},
   "source": [
    "Modificando o valor de um atributo com um método\n",
    "\n",
    "Pode ser conveniente ter métodos que atualizem determinados atributos\n",
    "para você. Em vez de acessar o atributo de modo direto, passe o novo\n",
    "valor para um método que trate a atualização internamente.\n",
    "\n",
    "dentro da classe Carro, um novo método deve ser adicionado:"
   ]
  },
  {
   "cell_type": "code",
   "execution_count": 25,
   "metadata": {},
   "outputs": [],
   "source": [
    "#Uma nova classe teve que ser criada, pode a repetição da mesma pode\n",
    "#gerar erro de múltiplas classes.\n",
    "class CarroKm():\n",
    "    \"\"\"Uma tentativa simples de representar um carro\"\"\"\n",
    "    def __init__(self, marca,modelo, ano):\n",
    "        \"\"\"Inicializa os atributos que descrevem o carro\"\"\"\n",
    "        self.marca = marca\n",
    "        self.modelo = modelo\n",
    "        self.ano = ano\n",
    "        self.leitor_odometro = 0 #aqui criamos um novo atributo\n",
    "    def descreve_nome(self):\n",
    "        \"\"\"Devolve um nome descritivo, formatado\"\"\"\n",
    "        nome_elegante = self.marca + ' ' + self.modelo + ' ' + str(self.ano) \n",
    "        return nome_elegante.title()\n",
    "    def leitor_meu_odometro(self):\n",
    "        \"\"\"Exibe uma frase que mostra a milhagem do carro.\"\"\"\n",
    "        print(f\"Esse carro tem {str(self.leitor_odometro)} km rodados\")\n",
    "    def atualiza_odometro(self, km): \n",
    "        \"\"\"Define o valor de leitura do hodômetro com o valor especificado.\"\"\"\n",
    "        self.leitor_odometro = km"
   ]
  },
  {
   "cell_type": "code",
   "execution_count": 26,
   "metadata": {},
   "outputs": [
    {
     "name": "stdout",
     "output_type": "stream",
     "text": [
      "Meu novo modelo é Toyota Hillux 2023\n",
      "Esse carro tem 30 km rodados\n"
     ]
    }
   ],
   "source": [
    "meu_novo_carro = CarroKm('toyota', 'hillux', 2023)\n",
    "print(f\"Meu novo modelo é {meu_novo_carro.descreve_nome()}\")\n",
    "meu_novo_carro.atualiza_odometro(30)\n",
    "meu_novo_carro.leitor_meu_odometro()"
   ]
  },
  {
   "cell_type": "markdown",
   "metadata": {},
   "source": [
    "Incrementando o valor de um atributo com um método\n",
    "\n",
    "Às vezes, você vai querer incrementar o valor de um atributo de\n",
    "determinada quantidade, em vez de definir um valor totalmente novo.\n",
    "Suponha que compramos um carro usado e andamos cem km entre o instante em que o compramos e o momento em que o registramos."
   ]
  },
  {
   "cell_type": "code",
   "execution_count": 2,
   "metadata": {},
   "outputs": [],
   "source": [
    "class CarroKm():\n",
    "    \"\"\"Uma tentativa simples de representar um carro\"\"\"\n",
    "    def __init__(self, marca,modelo, ano):\n",
    "        \"\"\"Inicializa os atributos que descrevem o carro\"\"\"\n",
    "        self.marca = marca\n",
    "        self.modelo = modelo\n",
    "        self.ano = ano\n",
    "        self.leitor_odometro = 0 #aqui criamos um novo atributo\n",
    "    def descreve_nome(self):\n",
    "        \"\"\"Devolve um nome descritivo, formatado\"\"\"\n",
    "        nome_elegante = self.marca + ' ' + self.modelo + ' ' + str(self.ano) \n",
    "        return nome_elegante.title()\n",
    "    def leitor_meu_odometro(self):\n",
    "        \"\"\"Exibe uma frase que mostra a milhagem do carro.\"\"\"\n",
    "        print(f\"Esse carro tem {str(self.leitor_odometro)} km rodados\")\n",
    "    def atualiza_odometro(self, km): \n",
    "        \"\"\"Define o valor de leitura do hodômetro com o valor especificado.\"\"\"\n",
    "        self.leitor_odometro = km\n",
    "    def incrementa_km(self, km):\n",
    "        \"\"\"Acrescenta uma quantidade de km ao odometro\"\"\"\n",
    "        self.leitor_odometro += km"
   ]
  },
  {
   "cell_type": "code",
   "execution_count": 3,
   "metadata": {},
   "outputs": [
    {
     "name": "stdout",
     "output_type": "stream",
     "text": [
      "Meu novo modelo é Subaru Outback 2013\n",
      "Esse carro tem 30 km rodados\n",
      "Esse carro tem 130 km rodados\n"
     ]
    }
   ],
   "source": [
    "meu_novo_carro = CarroKm('subaru', 'outback', 2013)\n",
    "print(f\"Meu novo modelo é {meu_novo_carro.descreve_nome()}\")\n",
    "meu_novo_carro.atualiza_odometro(30)\n",
    "meu_novo_carro.leitor_meu_odometro()\n",
    "meu_novo_carro.incrementa_km(100)\n",
    "meu_novo_carro.leitor_meu_odometro()"
   ]
  },
  {
   "cell_type": "markdown",
   "metadata": {},
   "source": [
    "### Herança "
   ]
  },
  {
   "cell_type": "markdown",
   "metadata": {},
   "source": [
    "Nem sempre você precisará começar do zero para escrever uma classe.\n",
    "Se a classe que você estiver escrevendo for uma versão especializada de outra classe já criada, a herança poderá ser usada. Quando uma classe herda de outra, ela assumirá automaticamente todos os atributos e métodos da primeira classe. A classe original se chama classe-pai e a nova classe é a classe-filha. A classe-filha herda todos os atributos e método de sua classe-pai, mas também é livre para definir novos atributos e métodos próprios.\n"
   ]
  },
  {
   "cell_type": "markdown",
   "metadata": {},
   "source": [
    "Vamos começar criando uma versão simples da classe CarroEletrico() que faz tudo que a classe CarroKm faz:"
   ]
  },
  {
   "cell_type": "code",
   "execution_count": 7,
   "metadata": {},
   "outputs": [],
   "source": [
    "class CarroEletrico(CarroKm):\n",
    "    \"\"\"Representa aspectos específicos de veículos elétricos\"\"\"\n",
    "    def __init__(self, marca, modelo, ano):\n",
    "        \"\"\"Inicializa os atributos da classe-pai\"\"\"\n",
    "        super().__init__(marca, modelo, ano)"
   ]
  },
  {
   "cell_type": "code",
   "execution_count": 8,
   "metadata": {},
   "outputs": [
    {
     "name": "stdout",
     "output_type": "stream",
     "text": [
      "Tesla Model S 2024\n"
     ]
    }
   ],
   "source": [
    "meu_tesla = CarroEletrico('tesla', 'model s', 2024)\n",
    "print(meu_tesla.descreve_nome())"
   ]
  },
  {
   "cell_type": "markdown",
   "metadata": {},
   "source": [
    "A função super() em x é uma função especial que ajuda Python a criar\n",
    "conexões entre a classe-pai e a classe-filha. Essa linha diz a Python para chamar o método __init__() da classe-pai de CarroEletrico, que confere todos os atributos da classe-pai a CarroEletrico. O nome super é derivado de uma convenção segundo a qual a classe-pai se chama superclasse e a classe-filha é a subclasse."
   ]
  },
  {
   "cell_type": "markdown",
   "metadata": {},
   "source": [
    "Definindo atributos e métodos na classe filha"
   ]
  },
  {
   "cell_type": "markdown",
   "metadata": {},
   "source": [
    "Depois que tiver uma classe-filha que herde de uma classe-pai, você\n",
    "pode adicionar qualquer atributo ou método novo necessários para\n",
    "diferenciar a classe-filha da classe-pai. Vamos acrescentar um atributo que seja específico aos carros elétricos (uma bateria, por exemplo) e um método para mostrar esse atributo.\n"
   ]
  },
  {
   "cell_type": "code",
   "execution_count": 10,
   "metadata": {},
   "outputs": [],
   "source": [
    "class CarroEletrico(CarroKm):\n",
    "    \"\"\"Representa aspectos específicos de veículos elétricos\"\"\"\n",
    "    def __init__(self, marca, modelo, ano):\n",
    "        \"\"\"Inicializa os atributos da classe-pai\"\"\"\n",
    "        self.bateria_tamanho = 70\n",
    "        super().__init__(marca, modelo, ano)\n",
    "    #novo método sobre bateria\n",
    "    #descomentar quando for usar \n",
    "    # def descreve_bateria(self):\n",
    "    #     \"\"\"Exibe uma frase que descreve a capacidade da bateria\"\"\"\n",
    "    #     print(f\"Esse carro tem {str(self.bateria_tamanho)}-kWh de bateria\")"
   ]
  },
  {
   "cell_type": "code",
   "execution_count": 12,
   "metadata": {},
   "outputs": [
    {
     "name": "stdout",
     "output_type": "stream",
     "text": [
      "Tesla Model E 2020\n",
      "Esse carro tem 70-kWh de bateria\n"
     ]
    }
   ],
   "source": [
    "meu_eletrico = CarroEletrico('tesla', 'model e', 2020)\n",
    "print(meu_eletrico.descreve_nome())\n",
    "meu_eletrico.descreve_bateria()"
   ]
  },
  {
   "cell_type": "markdown",
   "metadata": {},
   "source": [
    "Sobrescrevendo métodos daclasse-pai\n",
    "\n",
    "Qualquer método da classe-pai que não se enquadre no que você estiver\n",
    "tentando modelar com a classe-filha pode ser sobrescrito. Para isso,\n",
    "defina um método na classe-filha com o mesmo nome do método da\n",
    "classe-pai que você deseja sobrescrever. Python desprezará o método da\n",
    "classe-pai e só prestará atenção no método definido na classe-filha.\n",
    "Suponha que a classe CarroKm tenha um método chamado fill_gas_tank().\n",
    "Esse método não faz sentido para um veículo totalmente elétrico, portanto você pode sobrescrever esse método. "
   ]
  },
  {
   "cell_type": "code",
   "execution_count": 13,
   "metadata": {},
   "outputs": [],
   "source": [
    "#dentro da classe filha você poderia escrever:\n",
    "def fill_gas_tank():\n",
    "    \"\"\"Carros elétricos não têm tanques de gasolina\"\"\"\n",
    "    print(\"Esse carro não usa tanque de gasolina\")\n",
    "\n",
    "#mesmo que na classe CarroKm estivesse sendo definida outra coisa, aqui \n",
    "#você poderia sobrescrever para a classe CarroEletrico"
   ]
  },
  {
   "cell_type": "markdown",
   "metadata": {},
   "source": [
    "Instâncias como atributo"
   ]
  },
  {
   "cell_type": "markdown",
   "metadata": {},
   "source": [
    "Ao modelar algo do mundo real no código você poderá perceber que\n",
    "está adicionando cada vez mais detalhes em uma classe. Poderá notar\n",
    "que há uma lista crescente de atributos e métodos e que seus arquivos\n",
    "estão começando a ficar extensos. Nessas situações, talvez você perceba que parte de uma classe pode ser escrita como uma classe separada. Sua classe maior poderá ser dividida em partes menores que funcionem em conjunto.\n",
    "Por exemplo, se continuarmos adicionando detalhes à classe\n",
    "CarroEletrico, podemos perceber que estamos acrescentando muitos\n",
    "atributos e métodos específicos à bateria do carro. Se percebermos que\n",
    "isso está acontecendo, podemos parar e transferir esses atributos e\n",
    "métodos para uma classe diferente chamada Bateria. Então podemos\n",
    "usar uma instância de Battery como atributo da classe CarroEletrico:"
   ]
  },
  {
   "cell_type": "code",
   "execution_count": 15,
   "metadata": {},
   "outputs": [],
   "source": [
    "class Bateria(): \n",
    "    \"\"\"Uma tentativa simples de modelar uma bateria para um carro elétrico.\"\"\"\n",
    "    def __init__(self, bateria_tamanho=70): \n",
    "        \"\"\"Inicializa os atributos da bateria.\"\"\"\n",
    "        self.bateria_tamanho = bateria_tamanho\n",
    "    #para efeitos de estudos, a partir de agora esse método lá em CarroEletrico será comentado\n",
    "    def descreve_bateria(self):\n",
    "        \"\"\"Exibe uma frase que descreve a capacidade da bateria\"\"\"\n",
    "        print(f\"Esse carro tem {str(self.bateria_tamanho)}-kWh de bateria\")\n",
    "\n",
    "class CarroEletrico(CarroKm):\n",
    "    \"\"\"Representa aspectos específicos de veículos elétricos\"\"\"\n",
    "    def __init__(self, marca, modelo, ano):\n",
    "        \"\"\"Inicializa os atributos da classe-pai\"\"\"\n",
    "        self.bateria_tamanho = Bateria()\n",
    "        super().__init__(marca, modelo, ano)"
   ]
  },
  {
   "cell_type": "code",
   "execution_count": 17,
   "metadata": {},
   "outputs": [
    {
     "name": "stdout",
     "output_type": "stream",
     "text": [
      "Tesla Cubertruck 2024\n",
      "Esse carro tem 70-kWh de bateria\n"
     ]
    }
   ],
   "source": [
    "meu_novo_eletrico = CarroEletrico('tesla', 'cubertruck', 2024)\n",
    "print(meu_novo_eletrico.descreve_nome())\n",
    "meu_novo_eletrico.bateria_tamanho.descreve_bateria()"
   ]
  },
  {
   "cell_type": "markdown",
   "metadata": {},
   "source": [
    "Na classe CarroEletrico, adicionamos um atributo chamado self.bateria_tamanho. Essa linha diz a Python para criar uma nova instância de Bateria (com capacidade default de 70, pois não estamos especificando nenhum valor) e armazenar essa instância no atributo self.bateria_tamanho. Isso acontecerá sempre que o método __init__() for chamado; qualquer instância de ElectricCar agora terá uma instância de Bateria criada automaticamente."
   ]
  }
 ],
 "metadata": {
  "kernelspec": {
   "display_name": "Python 3 (ipykernel)",
   "language": "python",
   "name": "python3"
  },
  "language_info": {
   "codemirror_mode": {
    "name": "ipython",
    "version": 3
   },
   "file_extension": ".py",
   "mimetype": "text/x-python",
   "name": "python",
   "nbconvert_exporter": "python",
   "pygments_lexer": "ipython3",
   "version": "3.11.6"
  }
 },
 "nbformat": 4,
 "nbformat_minor": 2
}

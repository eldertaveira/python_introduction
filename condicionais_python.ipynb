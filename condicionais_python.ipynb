{
 "cells": [
  {
   "cell_type": "markdown",
   "metadata": {},
   "source": [
    "# Instruções IF"
   ]
  },
  {
   "cell_type": "markdown",
   "metadata": {},
   "source": [
    "O código a seguir percorre uma lista de nomes de\n",
    "carros em um laço e procura o valor 'bmw'. Sempre que o valor for 'bmw', ele será exibido com letras maiúsculas, e não apenas com a inicial maiúscula:"
   ]
  },
  {
   "cell_type": "code",
   "execution_count": 3,
   "metadata": {},
   "outputs": [
    {
     "name": "stdout",
     "output_type": "stream",
     "text": [
      "Audi\n",
      "BMW\n",
      "Subaru\n",
      "Toyota\n"
     ]
    }
   ],
   "source": [
    "cars = ['audi', 'bmw', 'subaru', 'toyota']\n",
    "for car in cars:\n",
    "    if car == 'bmw':\n",
    "        print(car.upper())\n",
    "    else:\n",
    "        print(car.title())"
   ]
  },
  {
   "cell_type": "markdown",
   "metadata": {},
   "source": [
    "Verificando se um valor está em uma lista"
   ]
  },
  {
   "cell_type": "code",
   "execution_count": 5,
   "metadata": {},
   "outputs": [
    {
     "data": {
      "text/plain": [
       "False"
      ]
     },
     "execution_count": 5,
     "metadata": {},
     "output_type": "execute_result"
    }
   ],
   "source": [
    "#Vamos verificar se na nossa lista, a torta está presente. O valor retornado será um\n",
    "#valor booleano, ou seja, True ou false.\n",
    "comidas = ['pizza', 'lasanha', 'bolo', 'cachorro quente']\n",
    "'torta' in comidas"
   ]
  },
  {
   "cell_type": "code",
   "execution_count": 6,
   "metadata": {},
   "outputs": [
    {
     "data": {
      "text/plain": [
       "True"
      ]
     },
     "execution_count": 6,
     "metadata": {},
     "output_type": "execute_result"
    }
   ],
   "source": [
    "#Agora vamos verificar se pizza está na lista.\n",
    "'pizza' in comidas"
   ]
  },
  {
   "cell_type": "code",
   "execution_count": 7,
   "metadata": {},
   "outputs": [
    {
     "data": {
      "text/plain": [
       "True"
      ]
     },
     "execution_count": 7,
     "metadata": {},
     "output_type": "execute_result"
    }
   ],
   "source": [
    "#Podemos também usar NOT IN, e vemos o que dá como resultado para TORTA.\n",
    "'torta' not in comidas"
   ]
  },
  {
   "cell_type": "code",
   "execution_count": 10,
   "metadata": {},
   "outputs": [
    {
     "name": "stdout",
     "output_type": "stream",
     "text": [
      "Torta não está na lista\n"
     ]
    }
   ],
   "source": [
    "#Podemos fazer algo mais avançado com isso, usando um IF.\n",
    "comida = 'torta'\n",
    "if comida not in comidas:\n",
    "    print(comida.title() + \" não está na lista\")"
   ]
  },
  {
   "cell_type": "markdown",
   "metadata": {},
   "source": [
    "Resumo sobre a condicional IF:\n",
    "\n",
    "O tipo mais simples de instrução if tem um teste e uma ação: \"if teste_condicional: faça algo\". Você pode colocar qualquer teste condicional na primeira linha, e praticamente qualquer ação no bloco indentado após o teste. Se o teste condicional for avaliado como True, Python executará o código após a instrução if. Se o teste for avaliado como False, Python ignorará o código depois da instrução if.\n"
   ]
  },
  {
   "cell_type": "markdown",
   "metadata": {},
   "source": [
    "Suponhamos que temos uma variável que representa a idade de uma pessoa. Logo, podemos checar se essa possoa pode votar ou não, de acordo com a condição exposta no IF."
   ]
  },
  {
   "cell_type": "code",
   "execution_count": 14,
   "metadata": {},
   "outputs": [
    {
     "name": "stdout",
     "output_type": "stream",
     "text": [
      "Você ainda não pode votar.\n"
     ]
    }
   ],
   "source": [
    "# O operador menor ou igual (<=) faz a diferença.\n",
    "idade = 15\n",
    "if idade <= 15:\n",
    "    print(\"Você ainda não pode votar.\")\n",
    "else:\n",
    "    print(\"Você está apto a votar, tenha uma boa votação.\")"
   ]
  },
  {
   "cell_type": "code",
   "execution_count": 15,
   "metadata": {},
   "outputs": [
    {
     "name": "stdout",
     "output_type": "stream",
     "text": [
      "Você está apto a votar, tenha uma boa votação.\n"
     ]
    }
   ],
   "source": [
    "idade = 19\n",
    "if idade < 15:\n",
    "    print(\"Você ainda não pode votar.\")\n",
    "else:\n",
    "    print(\"Você está apto a votar, tenha uma boa votação.\")"
   ]
  },
  {
   "cell_type": "markdown",
   "metadata": {},
   "source": [
    "Sintaxe if-elif-else"
   ]
  },
  {
   "cell_type": "markdown",
   "metadata": {},
   "source": [
    "Muitas vezes, você precisará testar mais de duas situações possíveis; para avaliar isso, a sintaxe if-elif-else de Python poderá ser usada. Python executa apenas um bloco em uma cadeia if-elif-else. Cada teste condicional é executado em sequência, até que um deles passe. Quando um teste passar, o código após esse teste será executado e Python ignorará o restante dos testes.\n"
   ]
  },
  {
   "cell_type": "code",
   "execution_count": 22,
   "metadata": {},
   "outputs": [
    {
     "name": "stdout",
     "output_type": "stream",
     "text": [
      "Você pode votar normalmente.\n"
     ]
    }
   ],
   "source": [
    "idade_eleitor = 19\n",
    "if idade_eleitor < 16:\n",
    "    print(\"Você ainda não tem idade para votar\")\n",
    "elif idade_eleitor >= 16 and idade_eleitor <=18:\n",
    "    print(\"Você pode voltar facultativamente\")\n",
    "else:\n",
    "    print(\"Você pode votar normalmente.\")"
   ]
  },
  {
   "cell_type": "markdown",
   "metadata": {},
   "source": [
    "Verificando itens de uma lista com IF"
   ]
  },
  {
   "cell_type": "markdown",
   "metadata": {},
   "source": [
    "Imagine que você quer comprar uma pizza e então decide escolher os ite"
   ]
  },
  {
   "cell_type": "code",
   "execution_count": 24,
   "metadata": {},
   "outputs": [
    {
     "name": "stdout",
     "output_type": "stream",
     "text": [
      "Não estamos sem pimentao no momento\n",
      "Adicionando cebola na pizza\n",
      "Adicionando calabreza na pizza\n",
      "Adicionando peperoni na pizza\n",
      "\n",
      "Sua pizza está pronta!\n"
     ]
    }
   ],
   "source": [
    "ingredientes = ['pimentao', 'cebola', 'calabreza', 'peperoni']\n",
    "for ingrediente in ingredientes:\n",
    "    if ingrediente == 'pimentao':\n",
    "        print(f\"Não estamos sem {ingrediente} no momento\")\n",
    "    else:\n",
    "        print(f\"Adicionando {ingrediente} na pizza\")\n",
    "print(\"\\nSua pizza está pronta!\")"
   ]
  },
  {
   "cell_type": "markdown",
   "metadata": {},
   "source": [
    "Verificando se um item não está na lista"
   ]
  },
  {
   "cell_type": "code",
   "execution_count": 4,
   "metadata": {},
   "outputs": [
    {
     "name": "stdout",
     "output_type": "stream",
     "text": [
      "Tem certeza que não quer nada adicionado?\n"
     ]
    }
   ],
   "source": [
    "itens_solicitados = []\n",
    "if itens_solicitados:\n",
    "    for item_solicitado in itens_solicitados:\n",
    "        print('Adicionando ' + item_solicitado + \".\")\n",
    "else:\n",
    "    print('Tem certeza que não quer nada adicionado?')"
   ]
  },
  {
   "cell_type": "markdown",
   "metadata": {},
   "source": [
    "Usando várias listas"
   ]
  },
  {
   "cell_type": "code",
   "execution_count": 6,
   "metadata": {},
   "outputs": [
    {
     "name": "stdout",
     "output_type": "stream",
     "text": [
      "Adicionando cebola.\n",
      "Adicionando tomate.\n",
      "Desculpa, não temos batata frita no momento\n",
      "Adicionando carne.\n",
      "Adicionando queijo.\n"
     ]
    }
   ],
   "source": [
    "itens_disponiveis = ['cebola', 'tomate', 'carne', 'queijo']\n",
    "itens_solicitados = ['cebola', 'tomate', 'batata frita', 'carne', 'queijo']\n",
    "\n",
    "for item_solicitado in itens_solicitados:\n",
    "    if item_solicitado in itens_disponiveis:\n",
    "        print(f\"Adicionando {item_solicitado}.\")\n",
    "    else:\n",
    "        print(f\"Desculpa, não temos {item_solicitado} no momento\")"
   ]
  },
  {
   "cell_type": "markdown",
   "metadata": {},
   "source": [
    "# INPUTS"
   ]
  },
  {
   "cell_type": "markdown",
   "metadata": {},
   "source": [
    "A função input() faz uma pausa em seu programa e espera o usuário fornecer um texto. Depois que Python recebe a entrada do usuário, esse dado é armazenado em uma variável para que você possa trabalhar com ele de forma conveniente"
   ]
  },
  {
   "cell_type": "code",
   "execution_count": 3,
   "metadata": {},
   "outputs": [
    {
     "name": "stdout",
     "output_type": "stream",
     "text": [
      "Olá, python!\n"
     ]
    }
   ],
   "source": [
    "mensagem = input(\"Me diga uma coisa e eu direi de volta...\")\n",
    "print(mensagem)"
   ]
  },
  {
   "cell_type": "code",
   "execution_count": 4,
   "metadata": {},
   "outputs": [
    {
     "name": "stdout",
     "output_type": "stream",
     "text": [
      "Olá, Elder! Como vai?\n"
     ]
    }
   ],
   "source": [
    "nome = input(\"Por favor, digite seu nome: \")\n",
    "print(f\"Olá, {nome}! Como vai?\")"
   ]
  },
  {
   "cell_type": "code",
   "execution_count": 7,
   "metadata": {},
   "outputs": [
    {
     "name": "stdout",
     "output_type": "stream",
     "text": [
      "\n",
      "Olá, Elder Samuel!\n"
     ]
    }
   ],
   "source": [
    "prompt = \"Se você nos dizer quem és, podemos pernosalizar mensagens para você ver.\"\n",
    "prompt += \"\\nQual o seu primeiro nome? \"\n",
    "name = input(prompt) \n",
    "print(\"\\nOlá, \" + name + \"!\")"
   ]
  },
  {
   "cell_type": "markdown",
   "metadata": {},
   "source": [
    "Usando input() para aceitar entradas numéricas\n",
    "\n",
    "Para trabalharmos com números dentro de uma condição, por exemplo, devemos usar a função int() para conversão do tipo de dado, pois ao coletarmos um valor do usuário, esse valor vem do tipo inteiro."
   ]
  },
  {
   "cell_type": "code",
   "execution_count": 13,
   "metadata": {},
   "outputs": [
    {
     "name": "stdout",
     "output_type": "stream",
     "text": [
      "Sua idade é 21 anos\n",
      "O tipo de dado que recebemos é <class 'str'>\n",
      "\n",
      "Você é maior de idade\n"
     ]
    }
   ],
   "source": [
    "idade = input(\"Quantos anos você tem?\")\n",
    "print(f\"Sua idade é {idade} anos\")\n",
    "print(f\"O tipo de dado que recebemos é {type(idade)}\")\n",
    "if int(idade) >= 18:\n",
    "    print(\"\\nVocê é maior de idade\")\n",
    "else:\n",
    "    print(\"\\nVocê é menor de idade\")"
   ]
  },
  {
   "cell_type": "markdown",
   "metadata": {},
   "source": [
    "Operador de módulo"
   ]
  },
  {
   "cell_type": "code",
   "execution_count": 15,
   "metadata": {},
   "outputs": [
    {
     "name": "stdout",
     "output_type": "stream",
     "text": [
      "\n",
      "O número 3 é ímpar.\n"
     ]
    }
   ],
   "source": [
    "num = input(\"Digite um número: \")\n",
    "if int(num) % 2 == 0:\n",
    "    print(f\"\\nO número {num} é par.\")\n",
    "else:\n",
    "    print(f\"\\nO número {num} é ímpar.\")"
   ]
  },
  {
   "cell_type": "markdown",
   "metadata": {},
   "source": [
    "# Laço WHILE em ação"
   ]
  },
  {
   "cell_type": "code",
   "execution_count": 18,
   "metadata": {},
   "outputs": [
    {
     "name": "stdout",
     "output_type": "stream",
     "text": [
      "1\n",
      "2\n",
      "3\n",
      "4\n",
      "5\n",
      "6\n"
     ]
    }
   ],
   "source": [
    "#Começando de forma simples, fazendo um código contar até 5 e imprimir na tela.\n",
    "#A expressao num += 1 vai fazer com que o código incremente mais 1, até chegar na condição final do while.\n",
    "num = 0\n",
    "while num <= 5:\n",
    "    num += 1\n",
    "    print(num)"
   ]
  },
  {
   "cell_type": "markdown",
   "metadata": {},
   "source": [
    "Deixando o usuário decidir quando quer sair"
   ]
  },
  {
   "cell_type": "code",
   "execution_count": 22,
   "metadata": {},
   "outputs": [
    {
     "name": "stdout",
     "output_type": "stream",
     "text": [
      "Python é a melhor linguagem de programação\n",
      "Elder Samuel\n",
      "quit\n"
     ]
    }
   ],
   "source": [
    "prompt = \"\\nMe diga algo e eu direi de volta a você\"\n",
    "prompt += \"\\nDigite 'quit' quando quiser sair\"\n",
    "\n",
    "msg = \"\"\n",
    "\n",
    "while msg != 'quit':\n",
    "    msg = input(prompt)\n",
    "    print(msg)"
   ]
  },
  {
   "cell_type": "markdown",
   "metadata": {},
   "source": [
    "Usando uma flag\n",
    "\n",
    "No exemplo anterior, tínhamos um programa que executava determinadas tarefas enquanto uma dada condição era verdadeira. E como ficaria em programas mais complicados, em que muitos eventos diferentes poderiam fazer o programa parar de executar?"
   ]
  },
  {
   "cell_type": "code",
   "execution_count": 23,
   "metadata": {},
   "outputs": [
    {
     "name": "stdout",
     "output_type": "stream",
     "text": [
      "Olá, mundo!\n",
      "Elder Samuel aqui\n"
     ]
    }
   ],
   "source": [
    "prompt = \"\\nMe diga algo e eu direi de volta a você\"\n",
    "prompt += \"\\nDigite 'quit' quando quiser sair\"\n",
    "\n",
    "ativo = True\n",
    "\n",
    "while ativo:\n",
    "    msg = input(prompt)\n",
    "    if msg == 'quit':\n",
    "        ativo = False\n",
    "    else:\n",
    "        print(msg)"
   ]
  },
  {
   "cell_type": "markdown",
   "metadata": {},
   "source": [
    "Usando break para sair de um laço\n",
    "\n",
    "Para sair de um laço while de imediato, sem executar qualquer código restante no laço, independentemente do resultado de qualquer teste condicional, utilize a instrução break. A instrução break direciona o fluxo\n",
    "de seu programa; podemos usá-la para controlar quais linhas de código são ou não são executadas, de modo que o programa execute apenas o código que você quiser, quando você quiser."
   ]
  },
  {
   "cell_type": "code",
   "execution_count": 24,
   "metadata": {},
   "outputs": [
    {
     "name": "stdout",
     "output_type": "stream",
     "text": [
      "Eu gostaria de visitar Natal!\n",
      "Eu gostaria de visitar Paris!\n",
      "Eu gostaria de visitar Roma!\n"
     ]
    }
   ],
   "source": [
    "tela = \"\\nPor favor diga nome de cidades que você já visitou: \"\n",
    "tela += \"\\nDigite 'quit' quando você terminar.\"\n",
    "\n",
    "while True:\n",
    "    city = input(tela)\n",
    "    if city == 'quit': break\n",
    "    else:\n",
    "        print(f\"Eu gostaria de visitar {city.title()}!\")"
   ]
  },
  {
   "cell_type": "markdown",
   "metadata": {},
   "source": [
    "Usando continue em um laço\n",
    "\n",
    "Em vez de sair totalmente de um laço sem executar o restante de seu código, podemos usar a instrução continue para retornar ao início, com base no resultado de um teste condicional. Por exemplo, considere um laço que conte de 1 a 10, mas apresente apenas os números ímpares desse intervalo:"
   ]
  },
  {
   "cell_type": "code",
   "execution_count": 27,
   "metadata": {},
   "outputs": [
    {
     "name": "stdout",
     "output_type": "stream",
     "text": [
      "1\n",
      "3\n",
      "5\n",
      "7\n",
      "9\n"
     ]
    }
   ],
   "source": [
    "num_atual = 0\n",
    "while num_atual < 10:\n",
    "    num_atual += 1\n",
    "    if num_atual % 2 == 0: continue\n",
    "    print(num_atual)"
   ]
  },
  {
   "cell_type": "markdown",
   "metadata": {},
   "source": [
    "Inicialmente, definimos num_atual com 0.\n",
    "Como esse valor é menor que 10, Python entra no laço while. Uma vez no laço, incrementamos o contador de 1 em u, portanto num_atual passa a ser 1. A instrução if então verifica o módulo entre num_atual e 2.\n",
    "Se o módulo for 0 (o que significa que num_atual é divisível por 2), a instrução continue diz a Python para ignorar o restante do laço e voltar ao início. Se o número atual não for divisível por 2, o restante\n",
    "do laço será executado e Python exibirá o número atual"
   ]
  }
 ],
 "metadata": {
  "kernelspec": {
   "display_name": "Python 3 (ipykernel)",
   "language": "python",
   "name": "python3"
  },
  "language_info": {
   "codemirror_mode": {
    "name": "ipython",
    "version": 3
   },
   "file_extension": ".py",
   "mimetype": "text/x-python",
   "name": "python",
   "nbconvert_exporter": "python",
   "pygments_lexer": "ipython3",
   "version": "3.11.6"
  }
 },
 "nbformat": 4,
 "nbformat_minor": 2
}

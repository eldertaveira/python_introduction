{
 "cells": [
  {
   "cell_type": "markdown",
   "metadata": {},
   "source": [
    "# Instruções IF"
   ]
  },
  {
   "cell_type": "markdown",
   "metadata": {},
   "source": [
    "O código a seguir percorre uma lista de nomes de\n",
    "carros em um laço e procura o valor 'bmw'. Sempre que o valor for 'bmw', ele será exibido com letras maiúsculas, e não apenas com a inicial maiúscula:"
   ]
  },
  {
   "cell_type": "code",
   "execution_count": 3,
   "metadata": {},
   "outputs": [
    {
     "name": "stdout",
     "output_type": "stream",
     "text": [
      "Audi\n",
      "BMW\n",
      "Subaru\n",
      "Toyota\n"
     ]
    }
   ],
   "source": [
    "cars = ['audi', 'bmw', 'subaru', 'toyota']\n",
    "for car in cars:\n",
    "    if car == 'bmw':\n",
    "        print(car.upper())\n",
    "    else:\n",
    "        print(car.title())"
   ]
  },
  {
   "cell_type": "markdown",
   "metadata": {},
   "source": [
    "Verificando se um valor está em uma lista"
   ]
  },
  {
   "cell_type": "code",
   "execution_count": 5,
   "metadata": {},
   "outputs": [
    {
     "data": {
      "text/plain": [
       "False"
      ]
     },
     "execution_count": 5,
     "metadata": {},
     "output_type": "execute_result"
    }
   ],
   "source": [
    "#Vamos verificar se na nossa lista, a torta está presente. O valor retornado será um\n",
    "#valor booleano, ou seja, True ou false.\n",
    "comidas = ['pizza', 'lasanha', 'bolo', 'cachorro quente']\n",
    "'torta' in comidas"
   ]
  },
  {
   "cell_type": "code",
   "execution_count": 6,
   "metadata": {},
   "outputs": [
    {
     "data": {
      "text/plain": [
       "True"
      ]
     },
     "execution_count": 6,
     "metadata": {},
     "output_type": "execute_result"
    }
   ],
   "source": [
    "#Agora vamos verificar se pizza está na lista.\n",
    "'pizza' in comidas"
   ]
  },
  {
   "cell_type": "code",
   "execution_count": 7,
   "metadata": {},
   "outputs": [
    {
     "data": {
      "text/plain": [
       "True"
      ]
     },
     "execution_count": 7,
     "metadata": {},
     "output_type": "execute_result"
    }
   ],
   "source": [
    "#Podemos também usar NOT IN, e vemos o que dá como resultado para TORTA.\n",
    "'torta' not in comidas"
   ]
  },
  {
   "cell_type": "code",
   "execution_count": 10,
   "metadata": {},
   "outputs": [
    {
     "name": "stdout",
     "output_type": "stream",
     "text": [
      "Torta não está na lista\n"
     ]
    }
   ],
   "source": [
    "#Podemos fazer algo mais avançado com isso, usando um IF.\n",
    "comida = 'torta'\n",
    "if comida not in comidas:\n",
    "    print(comida.title() + \" não está na lista\")"
   ]
  },
  {
   "cell_type": "markdown",
   "metadata": {},
   "source": [
    "Resumo sobre a condicional IF:\n",
    "\n",
    "O tipo mais simples de instrução if tem um teste e uma ação: \"if teste_condicional: faça algo\". Você pode colocar qualquer teste condicional na primeira linha, e praticamente qualquer ação no bloco indentado após o teste. Se o teste condicional for avaliado como True, Python executará o código após a instrução if. Se o teste for avaliado como False, Python ignorará o código depois da instrução if.\n"
   ]
  },
  {
   "cell_type": "markdown",
   "metadata": {},
   "source": [
    "Suponhamos que temos uma variável que representa a idade de uma pessoa. Logo, podemos checar se essa possoa pode votar ou não, de acordo com a condição exposta no IF."
   ]
  },
  {
   "cell_type": "code",
   "execution_count": 14,
   "metadata": {},
   "outputs": [
    {
     "name": "stdout",
     "output_type": "stream",
     "text": [
      "Você ainda não pode votar.\n"
     ]
    }
   ],
   "source": [
    "# O operador menor ou igual (<=) faz a diferença.\n",
    "idade = 15\n",
    "if idade <= 15:\n",
    "    print(\"Você ainda não pode votar.\")\n",
    "else:\n",
    "    print(\"Você está apto a votar, tenha uma boa votação.\")"
   ]
  },
  {
   "cell_type": "code",
   "execution_count": 15,
   "metadata": {},
   "outputs": [
    {
     "name": "stdout",
     "output_type": "stream",
     "text": [
      "Você está apto a votar, tenha uma boa votação.\n"
     ]
    }
   ],
   "source": [
    "idade = 19\n",
    "if idade < 15:\n",
    "    print(\"Você ainda não pode votar.\")\n",
    "else:\n",
    "    print(\"Você está apto a votar, tenha uma boa votação.\")"
   ]
  },
  {
   "cell_type": "markdown",
   "metadata": {},
   "source": [
    "Sintaxe if-elif-else"
   ]
  },
  {
   "cell_type": "markdown",
   "metadata": {},
   "source": [
    "Muitas vezes, você precisará testar mais de duas situações possíveis; para avaliar isso, a sintaxe if-elif-else de Python poderá ser usada. Python executa apenas um bloco em uma cadeia if-elif-else. Cada teste condicional é executado em sequência, até que um deles passe. Quando um teste passar, o código após esse teste será executado e Python ignorará o restante dos testes.\n"
   ]
  },
  {
   "cell_type": "code",
   "execution_count": 22,
   "metadata": {},
   "outputs": [
    {
     "name": "stdout",
     "output_type": "stream",
     "text": [
      "Você pode votar normalmente.\n"
     ]
    }
   ],
   "source": [
    "idade_eleitor = 19\n",
    "if idade_eleitor < 16:\n",
    "    print(\"Você ainda não tem idade para votar\")\n",
    "elif idade_eleitor >= 16 and idade_eleitor <=18:\n",
    "    print(\"Você pode voltar facultativamente\")\n",
    "else:\n",
    "    print(\"Você pode votar normalmente.\")"
   ]
  },
  {
   "cell_type": "markdown",
   "metadata": {},
   "source": [
    "Verificando itens de uma lista com IF"
   ]
  },
  {
   "cell_type": "markdown",
   "metadata": {},
   "source": [
    "Imagine que você quer comprar uma pizza e então decide escolher os ite"
   ]
  },
  {
   "cell_type": "code",
   "execution_count": 24,
   "metadata": {},
   "outputs": [
    {
     "name": "stdout",
     "output_type": "stream",
     "text": [
      "Não estamos sem pimentao no momento\n",
      "Adicionando cebola na pizza\n",
      "Adicionando calabreza na pizza\n",
      "Adicionando peperoni na pizza\n",
      "\n",
      "Sua pizza está pronta!\n"
     ]
    }
   ],
   "source": [
    "ingredientes = ['pimentao', 'cebola', 'calabreza', 'peperoni']\n",
    "for ingrediente in ingredientes:\n",
    "    if ingrediente == 'pimentao':\n",
    "        print(f\"Não estamos sem {ingrediente} no momento\")\n",
    "    else:\n",
    "        print(f\"Adicionando {ingrediente} na pizza\")\n",
    "print(\"\\nSua pizza está pronta!\")"
   ]
  },
  {
   "cell_type": "markdown",
   "metadata": {},
   "source": [
    "Verificando se um item não está na lista"
   ]
  },
  {
   "cell_type": "code",
   "execution_count": 4,
   "metadata": {},
   "outputs": [
    {
     "name": "stdout",
     "output_type": "stream",
     "text": [
      "Tem certeza que não quer nada adicionado?\n"
     ]
    }
   ],
   "source": [
    "itens_solicitados = []\n",
    "if itens_solicitados:\n",
    "    for item_solicitado in itens_solicitados:\n",
    "        print('Adicionando ' + item_solicitado + \".\")\n",
    "else:\n",
    "    print('Tem certeza que não quer nada adicionado?')"
   ]
  },
  {
   "cell_type": "markdown",
   "metadata": {},
   "source": [
    "Usando várias listas"
   ]
  },
  {
   "cell_type": "code",
   "execution_count": 6,
   "metadata": {},
   "outputs": [
    {
     "name": "stdout",
     "output_type": "stream",
     "text": [
      "Adicionando cebola.\n",
      "Adicionando tomate.\n",
      "Desculpa, não temos batata frita no momento\n",
      "Adicionando carne.\n",
      "Adicionando queijo.\n"
     ]
    }
   ],
   "source": [
    "itens_disponiveis = ['cebola', 'tomate', 'carne', 'queijo']\n",
    "itens_solicitados = ['cebola', 'tomate', 'batata frita', 'carne', 'queijo']\n",
    "\n",
    "for item_solicitado in itens_solicitados:\n",
    "    if item_solicitado in itens_disponiveis:\n",
    "        print(f\"Adicionando {item_solicitado}.\")\n",
    "    else:\n",
    "        print(f\"Desculpa, não temos {item_solicitado} no momento\")"
   ]
  },
  {
   "cell_type": "code",
   "execution_count": null,
   "metadata": {},
   "outputs": [],
   "source": []
  }
 ],
 "metadata": {
  "kernelspec": {
   "display_name": "Python 3 (ipykernel)",
   "language": "python",
   "name": "python3"
  },
  "language_info": {
   "codemirror_mode": {
    "name": "ipython",
    "version": 3
   },
   "file_extension": ".py",
   "mimetype": "text/x-python",
   "name": "python",
   "nbconvert_exporter": "python",
   "pygments_lexer": "ipython3",
   "version": "3.11.6"
  }
 },
 "nbformat": 4,
 "nbformat_minor": 2
}
